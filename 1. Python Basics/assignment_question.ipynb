{
 "cells": [
  {
   "cell_type": "markdown",
   "metadata": {},
   "source": [
    "# Lesson 1.2: Python Basics\n",
    "## Topics Covered:\n",
    "- Syntax and Semantics\n",
    "- Variables and Data Types\n",
    "- Basic Operators (Arithmetic, Comparison, Logical)\n"
   ]
  },
  {
   "cell_type": "markdown",
   "metadata": {},
   "source": [
    "## 1. Syntax and Semantics\n",
    "\n",
    "**Question 1:** Write a Python program to print \"Hello, World!\"."
   ]
  },
  {
   "cell_type": "code",
   "execution_count": 1,
   "metadata": {},
   "outputs": [
    {
     "name": "stdout",
     "output_type": "stream",
     "text": [
      "Hello, World!\n"
     ]
    }
   ],
   "source": [
    "# Your code here\n",
    "\n",
    "print(\"Hello, World!\")"
   ]
  },
  {
   "cell_type": "markdown",
   "metadata": {},
   "source": [
    "**Question 2:** Write a Python program that takes a user input and prints it."
   ]
  },
  {
   "cell_type": "code",
   "execution_count": 2,
   "metadata": {},
   "outputs": [
    {
     "name": "stdout",
     "output_type": "stream",
     "text": [
      "Brayan\n"
     ]
    }
   ],
   "source": [
    "# Your code here\n",
    "user = str(input(\"Enter your username: \"))\n",
    "print(user)"
   ]
  },
  {
   "cell_type": "markdown",
   "metadata": {},
   "source": [
    "**Question 3:** Write a Python program to check if a number is positive, negative, or zero."
   ]
  },
  {
   "cell_type": "code",
   "execution_count": 5,
   "metadata": {},
   "outputs": [
    {
     "name": "stdout",
     "output_type": "stream",
     "text": [
      "The number is negative\n"
     ]
    }
   ],
   "source": [
    "# Your code here\n",
    "\n",
    "num = int(input(\"Number\"))\n",
    "\n",
    "if num == 0:\n",
    "    print(\"The number is zero\")\n",
    "if num < 0:\n",
    "    print(\"The number is negative\")\n",
    "if num > 0:\n",
    "    print(\"The number is positive\")"
   ]
  },
  {
   "cell_type": "markdown",
   "metadata": {},
   "source": [
    "**Question 4:** Write a Python program to find the largest of three numbers."
   ]
  },
  {
   "cell_type": "code",
   "execution_count": null,
   "metadata": {},
   "outputs": [
    {
     "name": "stdout",
     "output_type": "stream",
     "text": [
      "Num3 is major\n"
     ]
    }
   ],
   "source": [
    "# Your code here\n",
    "\n",
    "num1 = int(input(\"Enter a number: \"))\n",
    "num2 = int(input(\"Enter a number: \"))\n",
    "num3 = int(input(\"Enter a number: \"))\n",
    "\n",
    "if (num1 >= num2) and (num1 >= num3):\n",
    "    print(\"Num1 is major\")\n",
    "elif (num2 >= num1) and (num2 >= num3):\n",
    "    print(\"Num2 is major\")\n",
    "else:\n",
    "    print(\"Num3 is major\")"
   ]
  },
  {
   "cell_type": "markdown",
   "metadata": {},
   "source": [
    "**Question 5:** Write a Python program to calculate the factorial of a number."
   ]
  },
  {
   "cell_type": "code",
   "execution_count": null,
   "metadata": {},
   "outputs": [],
   "source": [
    "# Your code here\n",
    "\n"
   ]
  },
  {
   "cell_type": "markdown",
   "metadata": {},
   "source": [
    "## 2. Variables and Data Types\n",
    "\n",
    "**Question 6:** Create variables of different data types: integer, float, string, and boolean. Print their values and types."
   ]
  },
  {
   "cell_type": "code",
   "execution_count": 13,
   "metadata": {},
   "outputs": [
    {
     "name": "stdout",
     "output_type": "stream",
     "text": [
      "Intger value: 10, type: <class 'int'>\n",
      "Intger value: 10.5, type: <class 'float'>\n",
      "Intger value: Brayan, type: <class 'str'>\n",
      "Intger value: True, type: <class 'bool'>\n"
     ]
    }
   ],
   "source": [
    "# Your code here\n",
    "var1 = 10\n",
    "var2 = 10.5\n",
    "var3 = \"Brayan\"\n",
    "var4 = True\n",
    "\n",
    "print(f\"Intger value: {var1}, type: {type(var1)}\")\n",
    "print(f\"Intger value: {var2}, type: {type(var2)}\")\n",
    "print(f\"Intger value: {var3}, type: {type(var3)}\")\n",
    "print(f\"Intger value: {var4}, type: {type(var4)}\")"
   ]
  },
  {
   "cell_type": "markdown",
   "metadata": {},
   "source": [
    "**Question 7:** Write a Python program to swap the values of two variables."
   ]
  },
  {
   "cell_type": "code",
   "execution_count": 15,
   "metadata": {},
   "outputs": [
    {
     "name": "stdout",
     "output_type": "stream",
     "text": [
      "Var1: 20, var2: 10\n"
     ]
    }
   ],
   "source": [
    "# Your code here\n",
    "var1 = 10\n",
    "var2 = 20\n",
    "aux = 0\n",
    "\n",
    "aux = var2\n",
    "var2 = var1\n",
    "var1 = aux\n",
    "print(f\"Var1: {var1}, var2: {var2}\")"
   ]
  },
  {
   "cell_type": "markdown",
   "metadata": {},
   "source": [
    "**Question 8:** Write a Python program to convert Celsius to Fahrenheit."
   ]
  },
  {
   "cell_type": "code",
   "execution_count": 17,
   "metadata": {},
   "outputs": [
    {
     "name": "stdout",
     "output_type": "stream",
     "text": [
      "Celsius: 5.0 to Fahrenheit: 41.0\n"
     ]
    }
   ],
   "source": [
    "# Your code here\n",
    "\n",
    "celisius = float(input(\"Enter temperature: \"))\n",
    "\n",
    "fahrenheit = (celisius * 1.8) + 32\n",
    "\n",
    "print(f\"Celsius: {celisius} to Fahrenheit: {fahrenheit}\")"
   ]
  },
  {
   "cell_type": "markdown",
   "metadata": {},
   "source": [
    "**Question 9:** Write a Python program to concatenate two strings."
   ]
  },
  {
   "cell_type": "code",
   "execution_count": 18,
   "metadata": {},
   "outputs": [
    {
     "name": "stdout",
     "output_type": "stream",
     "text": [
      "A l\n"
     ]
    }
   ],
   "source": [
    "# Your code here\n",
    "\n",
    "str1 = str(input(\"Enter string 1: \"))\n",
    "str2 = str(input(\"Enter string 2: \"))\n",
    "\n",
    "concat = str1 + str2\n",
    "\n",
    "print(concat)"
   ]
  },
  {
   "cell_type": "markdown",
   "metadata": {},
   "source": [
    "**Question 10:** Write a Python program to check if a variable is of a specific data type."
   ]
  },
  {
   "cell_type": "code",
   "execution_count": 22,
   "metadata": {},
   "outputs": [
    {
     "name": "stdout",
     "output_type": "stream",
     "text": [
      "It's a string\n"
     ]
    }
   ],
   "source": [
    "# Your code here\n",
    "\n",
    "var = input(\"Enter string\")\n",
    "\n",
    "if isinstance(var,str):\n",
    "    print(\"It's a string\")\n",
    "else:\n",
    "    print(\"It's not a string\")"
   ]
  },
  {
   "cell_type": "markdown",
   "metadata": {},
   "source": [
    "## 3. Basic Operators (Arithmetic, Comparison, Logical)\n",
    "\n",
    "**Question 11:** Write a Python program to perform arithmetic operations: addition, subtraction, multiplication, and division."
   ]
  },
  {
   "cell_type": "code",
   "execution_count": 23,
   "metadata": {},
   "outputs": [
    {
     "name": "stdout",
     "output_type": "stream",
     "text": [
      "Sum: 15\n",
      "Substraction: 5\n",
      "Multiplication: 50\n",
      "Division: 2.0\n"
     ]
    }
   ],
   "source": [
    "# Your code here\n",
    "var1 = 10\n",
    "var2 = 5\n",
    "\n",
    "sum = var1 + var2\n",
    "subs = var1 - var2\n",
    "multi = var1 * var2\n",
    "div = var1 / var2\n",
    "\n",
    "print(f\"Sum: {sum}\")\n",
    "print(f\"Substraction: {subs}\")\n",
    "print(f\"Multiplication: {multi}\")\n",
    "print(f\"Division: {div}\")"
   ]
  },
  {
   "cell_type": "markdown",
   "metadata": {},
   "source": [
    "**Question 12:** Write a Python program to demonstrate comparison operators: equal to, not equal to, greater than, less than."
   ]
  },
  {
   "cell_type": "code",
   "execution_count": 24,
   "metadata": {},
   "outputs": [
    {
     "name": "stdout",
     "output_type": "stream",
     "text": [
      "5 == 10: False\n",
      "5 != 10: True\n",
      "5 > 10: False\n",
      "5 < 10: True\n"
     ]
    }
   ],
   "source": [
    "# Your code here\n",
    "\n",
    "a = 5\n",
    "b = 10\n",
    "\n",
    "print(f\"{a} == {b}: {a == b}\")\n",
    "print(f\"{a} != {b}: {a != b}\")\n",
    "print(f\"{a} > {b}: {a > b}\")\n",
    "print(f\"{a} < {b}: {a < b}\")"
   ]
  },
  {
   "cell_type": "markdown",
   "metadata": {},
   "source": [
    "**Question 13:** Write a Python program to demonstrate logical operators: and, or, not."
   ]
  },
  {
   "cell_type": "code",
   "execution_count": 25,
   "metadata": {},
   "outputs": [
    {
     "name": "stdout",
     "output_type": "stream",
     "text": [
      "True and False: False\n",
      "True or False: True\n",
      "not True: False\n"
     ]
    }
   ],
   "source": [
    "# Your code here\n",
    "\n",
    "print(f\"True and False: {True and False}\")\n",
    "print(f\"True or False: {True or False}\")\n",
    "print(f\"not True: {not True}\")"
   ]
  },
  {
   "cell_type": "markdown",
   "metadata": {},
   "source": [
    "**Question 14:** Write a Python program to calculate the square of a number."
   ]
  },
  {
   "cell_type": "code",
   "execution_count": 26,
   "metadata": {},
   "outputs": [
    {
     "name": "stdout",
     "output_type": "stream",
     "text": [
      "The square of 25.0 is 625.0\n"
     ]
    }
   ],
   "source": [
    "# Your code here\n",
    "\n",
    "num = float(input(\"Enter number: \"))\n",
    "\n",
    "square = num ** 2\n",
    "\n",
    "print(f\"The square of {num} is {square}\")"
   ]
  },
  {
   "cell_type": "markdown",
   "metadata": {},
   "source": [
    "**Question 15:** Write a Python program to check if a number is even or odd."
   ]
  },
  {
   "cell_type": "code",
   "execution_count": 28,
   "metadata": {},
   "outputs": [
    {
     "name": "stdout",
     "output_type": "stream",
     "text": [
      "The number 11 is odd\n"
     ]
    }
   ],
   "source": [
    "# Your code here\n",
    "\n",
    "num = int(input(\"Enter number: \"))\n",
    "\n",
    "if num % 2 == 0:\n",
    "    print(f\"The number {num} is even\")\n",
    "else:\n",
    "    print(f\"The number {num} is odd\")"
   ]
  },
  {
   "cell_type": "markdown",
   "metadata": {},
   "source": [
    "**Question 16:** Write a Python program to find the sum of the first n natural numbers."
   ]
  },
  {
   "cell_type": "code",
   "execution_count": 41,
   "metadata": {},
   "outputs": [
    {
     "name": "stdout",
     "output_type": "stream",
     "text": [
      "Sum: 510555\n"
     ]
    }
   ],
   "source": [
    "# Your code here\n",
    "\n",
    "def sumNumbers(n):\n",
    "    if n == 0:\n",
    "        return 0\n",
    "    else:\n",
    "        return n + sumNumbers(n - 1)\n",
    "    \n",
    "num = input(\"Enter number n: \")\n",
    "\n",
    "result = sumNumbers(int(num))\n",
    "\n",
    "print(f\"Sum: {result}\")"
   ]
  },
  {
   "cell_type": "markdown",
   "metadata": {},
   "source": [
    "**Question 17:** Write a Python program to check if a year is a leap year."
   ]
  },
  {
   "cell_type": "code",
   "execution_count": null,
   "metadata": {},
   "outputs": [],
   "source": [
    "# Your code here"
   ]
  },
  {
   "cell_type": "markdown",
   "metadata": {},
   "source": [
    "**Question 18:** Write a Python program to reverse a string."
   ]
  },
  {
   "cell_type": "code",
   "execution_count": 42,
   "metadata": {},
   "outputs": [
    {
     "name": "stdout",
     "output_type": "stream",
     "text": [
      "The reversed string is: fgsdA\n"
     ]
    }
   ],
   "source": [
    "# Your code here\n",
    "\n",
    "# Solution\n",
    "string = input(\"Enter a string: \")\n",
    "reversed_string = string[::-1]\n",
    "print(f\"The reversed string is: {reversed_string}\")"
   ]
  },
  {
   "cell_type": "markdown",
   "metadata": {},
   "source": [
    "**Question 19:** Write a Python program to check if a string is a palindrome."
   ]
  },
  {
   "cell_type": "code",
   "execution_count": 45,
   "metadata": {},
   "outputs": [
    {
     "name": "stdout",
     "output_type": "stream",
     "text": [
      "The string: eewfew is not a polindrome\n"
     ]
    }
   ],
   "source": [
    "# Your code here\n",
    "\n",
    "str1 = input(\"Enter string: \")\n",
    "\n",
    "str_reverse = str1[::-1]\n",
    "\n",
    "if str1 == str_reverse:\n",
    "    print(f\"The string: {str1} is a polindrome\")\n",
    "else:\n",
    "    print(f\"The string: {str1} is not a polindrome\")"
   ]
  },
  {
   "cell_type": "markdown",
   "metadata": {},
   "source": [
    "**Question 20:** Write a Python program to sort a list of numbers in ascending order."
   ]
  },
  {
   "cell_type": "code",
   "execution_count": null,
   "metadata": {},
   "outputs": [],
   "source": [
    "# Your code here\n",
    "\n"
   ]
  }
 ],
 "metadata": {
  "kernelspec": {
   "display_name": "Python 3",
   "language": "python",
   "name": "python3"
  },
  "language_info": {
   "codemirror_mode": {
    "name": "ipython",
    "version": 3
   },
   "file_extension": ".py",
   "mimetype": "text/x-python",
   "name": "python",
   "nbconvert_exporter": "python",
   "pygments_lexer": "ipython3",
   "version": "3.12.0"
  }
 },
 "nbformat": 4,
 "nbformat_minor": 4
}
