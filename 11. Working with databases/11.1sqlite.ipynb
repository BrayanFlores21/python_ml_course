{
 "cells": [
  {
   "cell_type": "markdown",
   "metadata": {},
   "source": [
    "### SQL And SqlLite\n",
    "\n",
    "SQL (Structured Query Language) is a standard language for managing and manipualting relational databases. SQLite is a slef-contained,serverless, and zero-configuration database engine that is widely used for embedded database systems. In this lesson. We will cover the basics of SQL ans SQLite, including create databases, tables, and performing various SQL operations."
   ]
  },
  {
   "cell_type": "code",
   "execution_count": 2,
   "metadata": {},
   "outputs": [
    {
     "data": {
      "text/plain": [
       "<sqlite3.Connection at 0x1c3de332b60>"
      ]
     },
     "execution_count": 2,
     "metadata": {},
     "output_type": "execute_result"
    }
   ],
   "source": [
    "### Connect to an SQLite database\n",
    "import sqlite3 as sq\n",
    "\n",
    "connection = sq.connect('example.db')\n",
    "connection"
   ]
  },
  {
   "cell_type": "code",
   "execution_count": 3,
   "metadata": {},
   "outputs": [],
   "source": [
    "cursor = connection.cursor()"
   ]
  },
  {
   "cell_type": "code",
   "execution_count": 8,
   "metadata": {},
   "outputs": [],
   "source": [
    "### Create a table\n",
    "\n",
    "cursor.execute('''\n",
    "    CREATE TABLE IF NOT EXISTS employees(\n",
    "                id Integer Primary Key,\n",
    "                name Text Not Null,\n",
    "                age Integer,\n",
    "               department text\n",
    "               );\n",
    "''')\n",
    "\n",
    "### Commit the changes\n",
    "\n",
    "connection.commit()"
   ]
  },
  {
   "cell_type": "code",
   "execution_count": 9,
   "metadata": {},
   "outputs": [
    {
     "data": {
      "text/plain": [
       "<sqlite3.Cursor at 0x14d08b63b40>"
      ]
     },
     "execution_count": 9,
     "metadata": {},
     "output_type": "execute_result"
    }
   ],
   "source": [
    "cursor.execute('''\n",
    "    SELECT * FROM employees\n",
    "''')\n",
    "\n"
   ]
  },
  {
   "cell_type": "code",
   "execution_count": 11,
   "metadata": {},
   "outputs": [],
   "source": [
    "## Insert data \n",
    "\n",
    "cursor.execute(\"INSERT INTO employees values(null,'Brayan',24,'Web Developer');\")\n",
    "cursor.execute(\"INSERT INTO employees values(null,'Bob',32,'Engineering');\")\n",
    "cursor.execute(\"INSERT INTO employees values(null,'Krish',22,'Finance');\")\n",
    "\n",
    "connection.commit()\n"
   ]
  },
  {
   "cell_type": "code",
   "execution_count": 4,
   "metadata": {},
   "outputs": [
    {
     "data": {
      "text/plain": [
       "[(1, 'Brayan', 24, 'Web Developer'),\n",
       " (2, 'Bob', 32, 'Engineering'),\n",
       " (3, 'Krish', 22, 'Finance')]"
      ]
     },
     "execution_count": 4,
     "metadata": {},
     "output_type": "execute_result"
    }
   ],
   "source": [
    "## QUERY THE DATA\n",
    "\n",
    "cursor.execute(\"SELECT * FROM employees;\")\n",
    "\n",
    "employees = cursor.fetchall()\n",
    "\n",
    "employees\n"
   ]
  },
  {
   "cell_type": "code",
   "execution_count": 5,
   "metadata": {},
   "outputs": [
    {
     "name": "stdout",
     "output_type": "stream",
     "text": [
      "(1, 'Brayan', 24, 'Web Developer')\n",
      "(2, 'Bob', 32, 'Engineering')\n",
      "(3, 'Krish', 22, 'Finance')\n"
     ]
    }
   ],
   "source": [
    "for employe in employees:\n",
    "    print(employe)"
   ]
  },
  {
   "cell_type": "code",
   "execution_count": 6,
   "metadata": {},
   "outputs": [
    {
     "data": {
      "text/plain": [
       "[(1, 'Brayan', 23, 'Web Developer'),\n",
       " (2, 'Bob', 32, 'Engineering'),\n",
       " (3, 'Krish', 22, 'Finance')]"
      ]
     },
     "execution_count": 6,
     "metadata": {},
     "output_type": "execute_result"
    }
   ],
   "source": [
    "### UPDATE\n",
    "\n",
    "cursor.execute('''\n",
    "    UPDATE employees\n",
    "    SET age=23\n",
    "    WHERE id = 1\n",
    "''')\n",
    "\n",
    "connection.commit()\n",
    "\n",
    "cursor.execute(\"SELECT * FROM employees;\")\n",
    "\n",
    "employees = cursor.fetchall()\n",
    "\n",
    "employees"
   ]
  },
  {
   "cell_type": "code",
   "execution_count": 7,
   "metadata": {},
   "outputs": [
    {
     "data": {
      "text/plain": [
       "[(1, 'Brayan', 23, 'Web Developer'), (3, 'Krish', 22, 'Finance')]"
      ]
     },
     "execution_count": 7,
     "metadata": {},
     "output_type": "execute_result"
    }
   ],
   "source": [
    "### Delete the data from the table\n",
    "\n",
    "cursor.execute('''\n",
    "    DELETE FROM employees WHERE id=2\n",
    "''')\n",
    "\n",
    "connection.commit()\n",
    "\n",
    "cursor.execute(\"SELECT * FROM employees;\")\n",
    "\n",
    "employees = cursor.fetchall()\n",
    "\n",
    "employees"
   ]
  },
  {
   "cell_type": "code",
   "execution_count": 8,
   "metadata": {},
   "outputs": [],
   "source": [
    "### Working with Sales Data\n",
    "\n",
    "connection = sq.connect('sales_data.db')\n",
    "cursor = connection.cursor()\n",
    "\n",
    "cursor.execute('''\n",
    "    CREATE TABLE IF NOT EXISTS sales(\n",
    "                id INTEGER PRIMARY KEY,\n",
    "               date TEXT NOT NULL,\n",
    "               product TEXT NOT NULL,\n",
    "               sales INTEGER,\n",
    "               region TEXT\n",
    "            );\n",
    "''')\n",
    "\n",
    "connection.commit()"
   ]
  },
  {
   "cell_type": "code",
   "execution_count": 9,
   "metadata": {},
   "outputs": [],
   "source": [
    "sales_data = [\n",
    "    ('2023-01-01','Product1',100,'North'),\n",
    "    ('2023-01-02','Product2',200,'South'),\n",
    "    ('2023-01-03','Product1',150,'East'),\n",
    "    ('2023-01-04','Product3',250,'West'),\n",
    "    ('2023-01-05','Product2',300,'North')\n",
    "]\n",
    "\n",
    "cursor.executemany('''\n",
    "    Insert into sales(date,product,sales,region) values(?,?,?,?)\n",
    "''',sales_data)\n",
    "\n",
    "connection.commit()"
   ]
  },
  {
   "cell_type": "code",
   "execution_count": 10,
   "metadata": {},
   "outputs": [
    {
     "data": {
      "text/plain": [
       "[(1, '2023-01-01', 'Product1', 100, 'North'),\n",
       " (2, '2023-01-02', 'Product2', 200, 'South'),\n",
       " (3, '2023-01-03', 'Product1', 150, 'East'),\n",
       " (4, '2023-01-04', 'Product3', 250, 'West'),\n",
       " (5, '2023-01-05', 'Product2', 300, 'North')]"
      ]
     },
     "execution_count": 10,
     "metadata": {},
     "output_type": "execute_result"
    }
   ],
   "source": [
    "cursor.execute(\"SELECT * FROM sales;\")\n",
    "\n",
    "employees = cursor.fetchall()\n",
    "\n",
    "employees"
   ]
  },
  {
   "cell_type": "code",
   "execution_count": 11,
   "metadata": {},
   "outputs": [],
   "source": [
    "### Close connection\n",
    "\n",
    "connection.close()"
   ]
  },
  {
   "cell_type": "code",
   "execution_count": 12,
   "metadata": {},
   "outputs": [
    {
     "ename": "ProgrammingError",
     "evalue": "Cannot operate on a closed database.",
     "output_type": "error",
     "traceback": [
      "\u001b[1;31m---------------------------------------------------------------------------\u001b[0m",
      "\u001b[1;31mProgrammingError\u001b[0m                          Traceback (most recent call last)",
      "Cell \u001b[1;32mIn[12], line 1\u001b[0m\n\u001b[1;32m----> 1\u001b[0m \u001b[43mcursor\u001b[49m\u001b[38;5;241;43m.\u001b[39;49m\u001b[43mexecute\u001b[49m\u001b[43m(\u001b[49m\u001b[38;5;124;43m\"\u001b[39;49m\u001b[38;5;124;43mSELECT * FROM sales;\u001b[39;49m\u001b[38;5;124;43m\"\u001b[39;49m\u001b[43m)\u001b[49m\n\u001b[0;32m      3\u001b[0m employees \u001b[38;5;241m=\u001b[39m cursor\u001b[38;5;241m.\u001b[39mfetchall()\n\u001b[0;32m      5\u001b[0m employees\n",
      "\u001b[1;31mProgrammingError\u001b[0m: Cannot operate on a closed database."
     ]
    }
   ],
   "source": [
    "cursor.execute(\"SELECT * FROM sales;\")\n",
    "\n",
    "employees = cursor.fetchall()\n",
    "\n",
    "employees"
   ]
  },
  {
   "cell_type": "code",
   "execution_count": null,
   "metadata": {},
   "outputs": [],
   "source": []
  }
 ],
 "metadata": {
  "kernelspec": {
   "display_name": "Python 3",
   "language": "python",
   "name": "python3"
  },
  "language_info": {
   "codemirror_mode": {
    "name": "ipython",
    "version": 3
   },
   "file_extension": ".py",
   "mimetype": "text/x-python",
   "name": "python",
   "nbconvert_exporter": "python",
   "pygments_lexer": "ipython3",
   "version": "3.12.0"
  }
 },
 "nbformat": 4,
 "nbformat_minor": 2
}
