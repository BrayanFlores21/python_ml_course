{
 "cells": [
  {
   "cell_type": "markdown",
   "metadata": {},
   "source": [
    "# Module 2: Control Flow Assignments\n",
    "## Lesson 2.1: Conditional Statements\n",
    "### Assignment 1: Simple if Statement\n",
    "\n",
    "Write a program that asks the user to input a number and prints whether the number is positive.\n",
    "\n",
    "### Assignment 2: if-else Statement\n",
    "\n",
    "Write a program that asks the user to input a number and prints whether the number is positive or negative.\n",
    "\n",
    "### Assignment 3: if-elif-else Statement\n",
    "\n",
    "Write a program that asks the user to input a number and prints whether the number is positive, negative, or zero.\n",
    "\n",
    "### Assignment 4: Nested if Statement\n",
    "\n",
    "Write a program that asks the user to input a number and prints whether the number is positive and even, positive and odd, or negative.\n",
    "\n",
    "## Lesson 2.2: Loops\n",
    "### Assignment 5: for Loop\n",
    "\n",
    "Write a program that prints all the numbers from 1 to 10 using a for loop.\n",
    "\n",
    "### Assignment 6: while Loop\n",
    "\n",
    "Write a program that prints all the numbers from 1 to 10 using a while loop.\n",
    "\n",
    "### Assignment 7: Nested Loops\n",
    "\n",
    "Write a program that prints a 5x5 grid of asterisks (*) using nested loops.\n",
    "\n",
    "### Assignment 8: break Statement\n",
    "\n",
    "Write a program that asks the user to input numbers until they input 0. The program should print the sum of all the input numbers.\n",
    "\n",
    "### Assignment 9: continue Statement\n",
    "\n",
    "Write a program that prints all the numbers from 1 to 10 except 5 using a for loop and continue statement.\n",
    "\n",
    "### Assignment 10: pass Statement\n",
    "\n",
    "Write a program that defines an empty function using the pass statement.\n",
    "\n",
    "### Assignment 11: Combining Loops and Conditionals\n",
    "\n",
    "Write a program that asks the user to input a number and prints all the even numbers from 1 to that number using a for loop.\n",
    "\n",
    "### Assignment 12: Factorial Calculation\n",
    "\n",
    "Write a program that calculates the factorial of a number input by the user using a while loop.\n",
    "\n",
    "### Assignment 13: Sum of Digits\n",
    "\n",
    "Write a program that calculates the sum of the digits of a number input by the user using a while loop.\n",
    "\n",
    "### Assignment 14: Prime Number Check\n",
    "\n",
    "Write a program that checks if a number input by the user is a prime number using a for loop.\n",
    "\n",
    "### Assignment 15: Fibonacci Sequence\n",
    "\n",
    "Write a program that prints the first n Fibonacci numbers, where n is input by the user."
   ]
  },
  {
   "cell_type": "code",
   "execution_count": 2,
   "id": "12b57ecd",
   "metadata": {},
   "outputs": [],
   "source": [
    "## 1\n",
    "\n",
    "num = int(input(\"Enter a number: \"))\n",
    "\n",
    "if num > 0:\n",
    "    print(\"The number is positive\")"
   ]
  },
  {
   "cell_type": "code",
   "execution_count": 5,
   "metadata": {},
   "outputs": [
    {
     "name": "stdout",
     "output_type": "stream",
     "text": [
      "The number is positive\n"
     ]
    }
   ],
   "source": [
    "## 2\n",
    "\n",
    "num = int(input(\"Enter a number: \"))\n",
    "\n",
    "if num >= 0:\n",
    "    print(\"The number is positive\")\n",
    "else:\n",
    "    print(\"The number is negative\")"
   ]
  },
  {
   "cell_type": "code",
   "execution_count": 9,
   "id": "6d0466d2",
   "metadata": {},
   "outputs": [
    {
     "name": "stdout",
     "output_type": "stream",
     "text": [
      "The number is negative\n"
     ]
    }
   ],
   "source": [
    "num = int(input(\"Enter a number: \"))\n",
    "\n",
    "if num > 0:\n",
    "    print(\"The number is positive\")\n",
    "elif num == 0:\n",
    "    print(\"The number is zero\")\n",
    "else:\n",
    "    print(\"The number is negative\")"
   ]
  },
  {
   "cell_type": "code",
   "execution_count": 15,
   "id": "8f262c4e",
   "metadata": {},
   "outputs": [
    {
     "name": "stdout",
     "output_type": "stream",
     "text": [
      "The number is negative\n"
     ]
    }
   ],
   "source": [
    "num = int(input(\"Enter a number: \"))\n",
    "\n",
    "if num > 0:\n",
    "    if num % 2 == 0:\n",
    "        print(\"The number is even and positive\")\n",
    "    else:\n",
    "        print(\"The number is odd and positive\")\n",
    "elif num == 0:\n",
    "    print(\"The number is zero\")\n",
    "else:\n",
    "    print(\"The number is negative\")"
   ]
  },
  {
   "cell_type": "code",
   "execution_count": 18,
   "id": "47718c95",
   "metadata": {},
   "outputs": [
    {
     "name": "stdout",
     "output_type": "stream",
     "text": [
      "1\n",
      "2\n",
      "3\n",
      "4\n",
      "5\n",
      "6\n",
      "7\n",
      "8\n",
      "9\n",
      "10\n"
     ]
    }
   ],
   "source": [
    "#5\n",
    "for i in range(1,11):\n",
    "    print(i)"
   ]
  },
  {
   "cell_type": "code",
   "execution_count": 21,
   "id": "b856382a",
   "metadata": {},
   "outputs": [
    {
     "name": "stdout",
     "output_type": "stream",
     "text": [
      "1\n",
      "2\n",
      "3\n",
      "4\n",
      "5\n",
      "6\n",
      "7\n",
      "8\n",
      "9\n",
      "10\n"
     ]
    }
   ],
   "source": [
    "#6\n",
    "\n",
    "i = 1\n",
    "\n",
    "while i <= 10 :\n",
    "    print(i)\n",
    "    i = i + 1"
   ]
  },
  {
   "cell_type": "code",
   "execution_count": 22,
   "id": "47150d6e",
   "metadata": {},
   "outputs": [
    {
     "name": "stdout",
     "output_type": "stream",
     "text": [
      "*****\n",
      "*****\n",
      "*****\n",
      "*****\n",
      "*****\n"
     ]
    }
   ],
   "source": [
    "#7\n",
    "\n",
    "for i in range(1,6):\n",
    "    str = ''\n",
    "    for j in range(1,6):\n",
    "        str = str + '*'\n",
    "    print(str)"
   ]
  },
  {
   "cell_type": "code",
   "execution_count": 26,
   "id": "642c5f1c",
   "metadata": {},
   "outputs": [
    {
     "name": "stdout",
     "output_type": "stream",
     "text": [
      "Sum: 55\n"
     ]
    }
   ],
   "source": [
    "# 8\n",
    "sum = 0\n",
    "while True:\n",
    "    res = int(input(\"Enter number: \"))\n",
    "    if res == 0:\n",
    "        break\n",
    "    sum = sum + res\n",
    "\n",
    "print(f\"Sum: {sum}\")"
   ]
  },
  {
   "cell_type": "code",
   "execution_count": 27,
   "id": "4868735f",
   "metadata": {},
   "outputs": [
    {
     "name": "stdout",
     "output_type": "stream",
     "text": [
      "1\n",
      "2\n",
      "3\n",
      "4\n",
      "6\n",
      "7\n",
      "8\n",
      "9\n",
      "10\n"
     ]
    }
   ],
   "source": [
    "# 9\n",
    "for i in range(1,11):\n",
    "    if(i == 5):\n",
    "        continue\n",
    "    print(i)"
   ]
  },
  {
   "cell_type": "code",
   "execution_count": 29,
   "id": "a842bba5",
   "metadata": {},
   "outputs": [],
   "source": [
    "# 10\n",
    "\n",
    "def test():\n",
    "    pass\n",
    "\n",
    "test()"
   ]
  },
  {
   "cell_type": "code",
   "execution_count": 32,
   "id": "816bdb23",
   "metadata": {},
   "outputs": [
    {
     "name": "stdout",
     "output_type": "stream",
     "text": [
      "2\n",
      "4\n",
      "6\n",
      "8\n",
      "10\n",
      "12\n",
      "14\n",
      "16\n",
      "18\n",
      "20\n"
     ]
    }
   ],
   "source": [
    "# 11\n",
    "\n",
    "n = int(input(\"Number: \"))\n",
    "\n",
    "for i in range(1,n +1):\n",
    "    if i%2 == 0:\n",
    "        print(i)"
   ]
  },
  {
   "cell_type": "code",
   "execution_count": 15,
   "id": "6e6dd348",
   "metadata": {},
   "outputs": [
    {
     "name": "stdout",
     "output_type": "stream",
     "text": [
      "result: 39916800\n"
     ]
    }
   ],
   "source": [
    "# 12\n",
    "\n",
    "num = int(input(\"Number: \"))\n",
    "\n",
    "i = 1\n",
    "res = 1\n",
    "while i <= num:\n",
    "    res = res * i\n",
    "    i = i + 1\n",
    "\n",
    "print(f\"result: {res}\")\n"
   ]
  },
  {
   "cell_type": "code",
   "execution_count": 20,
   "id": "3cbd857d",
   "metadata": {},
   "outputs": [
    {
     "name": "stdout",
     "output_type": "stream",
     "text": [
      "result: 2\n"
     ]
    }
   ],
   "source": [
    "#13\n",
    "\n",
    "number = str(input(\"Number: \"))\n",
    "result = 0;\n",
    "\n",
    "for i in number:\n",
    "    result = result + int(i)\n",
    "\n",
    "print(f\"result: {result}\")"
   ]
  },
  {
   "cell_type": "code",
   "execution_count": 31,
   "id": "93fb0bdf",
   "metadata": {},
   "outputs": [
    {
     "name": "stdout",
     "output_type": "stream",
     "text": [
      "The number is not prime\n"
     ]
    }
   ],
   "source": [
    "#14 -\n",
    "\n",
    "number = int(input(\"Number: \"))\n",
    "flag = True\n",
    "\n",
    "for i in range(2,number):\n",
    "    if number % i == 0:\n",
    "        flag = False\n",
    "\n",
    "if flag :\n",
    "    print(\"The number is prime\")\n",
    "else:\n",
    "    print(\"The number is not prime\")"
   ]
  },
  {
   "cell_type": "code",
   "execution_count": 34,
   "id": "af5c3c4a",
   "metadata": {},
   "outputs": [
    {
     "name": "stdout",
     "output_type": "stream",
     "text": [
      "0\n",
      "1\n",
      "1\n",
      "2\n",
      "3\n",
      "5\n",
      "8\n",
      "13\n",
      "21\n",
      "34\n",
      "55\n",
      "89\n"
     ]
    }
   ],
   "source": [
    "#15\n",
    "\n",
    "n = int(input(\"Number: \"))\n",
    "\n",
    "i = 0\n",
    "current = 1\n",
    "last = 0\n",
    "print(last)\n",
    "print(current)\n",
    "while i < n:\n",
    "    new = current + last\n",
    "    print(new)\n",
    "    last = current\n",
    "    current = new\n",
    "    i = i + 1"
   ]
  },
  {
   "cell_type": "code",
   "execution_count": null,
   "id": "50b2b0b3",
   "metadata": {},
   "outputs": [],
   "source": []
  }
 ],
 "metadata": {
  "kernelspec": {
   "display_name": "Python 3",
   "language": "python",
   "name": "python3"
  },
  "language_info": {
   "codemirror_mode": {
    "name": "ipython",
    "version": 3
   },
   "file_extension": ".py",
   "mimetype": "text/x-python",
   "name": "python",
   "nbconvert_exporter": "python",
   "pygments_lexer": "ipython3",
   "version": "3.12.0"
  }
 },
 "nbformat": 4,
 "nbformat_minor": 5
}
