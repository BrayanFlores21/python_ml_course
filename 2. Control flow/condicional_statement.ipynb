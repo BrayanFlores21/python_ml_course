{
 "cells": [
  {
   "cell_type": "markdown",
   "metadata": {},
   "source": [
    "## Conditional Statements (if, elif, else)\n",
    "\n",
    "Video Outline:\n",
    "\n",
    "1. Introduction to Conditional Statements\n",
    "2. if statement\n",
    "3. else statement\n",
    "4. elif statement\n",
    "5. Nested conditional statements\n",
    "6. Practical examples\n",
    "7. Common errors and best practices"
   ]
  },
  {
   "cell_type": "code",
   "execution_count": 1,
   "metadata": {},
   "outputs": [
    {
     "name": "stdout",
     "output_type": "stream",
     "text": [
      "You are allowed to vote in the elections.\n"
     ]
    }
   ],
   "source": [
    "## if statement\n",
    "\n",
    "age = 20\n",
    "\n",
    "if age >= 18:\n",
    "    print(\"You are allowed to vote in the election.\")"
   ]
  },
  {
   "cell_type": "code",
   "execution_count": 2,
   "metadata": {},
   "outputs": [
    {
     "name": "stdout",
     "output_type": "stream",
     "text": [
      "You are a minor.\n"
     ]
    }
   ],
   "source": [
    "## else\n",
    "age = 16\n",
    "\n",
    "if age >= 18:\n",
    "    print(\"You are allowed to vote in the election.\")\n",
    "else:\n",
    "    print(\"You are a minor.\")"
   ]
  },
  {
   "cell_type": "code",
   "execution_count": 3,
   "metadata": {},
   "outputs": [
    {
     "name": "stdout",
     "output_type": "stream",
     "text": [
      "You are an adult.\n"
     ]
    }
   ],
   "source": [
    "## elif\n",
    "## The elif statement allows you to check multiple conditions. it stands for \"else if\"\n",
    "\n",
    "age = 20\n",
    "\n",
    "if age < 13:\n",
    "    print(\"You are a child.\")\n",
    "elif age < 18:\n",
    "    print(\"You are a teenager.\")\n",
    "else:\n",
    "    print(\"You are an adult.\")"
   ]
  },
  {
   "cell_type": "code",
   "execution_count": 7,
   "metadata": {},
   "outputs": [
    {
     "name": "stdout",
     "output_type": "stream",
     "text": [
      "Number is negative\n"
     ]
    }
   ],
   "source": [
    "# Nested conditional statements\n",
    "\n",
    "## You can place one or more if, elif, or else statements inside another if, elif, or else statement to create nested conditional statement.\n",
    "\n",
    "# number even, odd, negative\n",
    "\n",
    "num = int(input(\"Enter the number: \"))\n",
    "\n",
    "if num >= 0:\n",
    "    print(\"Number is positive\")\n",
    "    if num % 2 == 0 :\n",
    "        print(\"Number is even\")\n",
    "    else:\n",
    "        print(\"Number is odd\")\n",
    "else:\n",
    "    print(\"Number is negative\")"
   ]
  },
  {
   "cell_type": "code",
   "execution_count": 14,
   "metadata": {},
   "outputs": [
    {
     "name": "stdout",
     "output_type": "stream",
     "text": [
      "400  is a leap year\n"
     ]
    }
   ],
   "source": [
    "## Practical examples\n",
    "\n",
    "## Determine if a year is leap year\n",
    "\n",
    "year = int(input(\"Enter the year: \"))\n",
    "\n",
    "if year % 4 == 0:\n",
    "    if year % 100 == 0:\n",
    "        if year % 400 == 0:\n",
    "            print(year,\" is a leap year\")\n",
    "        else:\n",
    "            print(\"Year is not a leap year\")\n",
    "    else: \n",
    "        print(\"Year is not a leap year\")\n",
    "else:\n",
    "    print(\"Year is not a leap year\")"
   ]
  },
  {
   "cell_type": "code",
   "execution_count": 18,
   "metadata": {},
   "outputs": [
    {
     "ename": "SyntaxError",
     "evalue": "expected ':' (620058830.py, line 18)",
     "output_type": "error",
     "traceback": [
      "\u001b[1;36m  Cell \u001b[1;32mIn[18], line 18\u001b[1;36m\u001b[0m\n\u001b[1;33m    else\u001b[0m\n\u001b[1;37m        ^\u001b[0m\n\u001b[1;31mSyntaxError\u001b[0m\u001b[1;31m:\u001b[0m expected ':'\n"
     ]
    }
   ],
   "source": [
    "## Assignment\n",
    "## Simple Calculator program\n",
    "# Take user input\n",
    "\n",
    "num1 = float(input(\"Enter number 1: \"))\n",
    "num2 = float(input(\"Enter number 2: \"))\n",
    "operation = str(input(\"Enter operation (+,-,*,/): \"))\n",
    "\n",
    "if operation == \"+\":\n",
    "    print(f\"The sum between {num1} + {num2} is {num1 + num2}\")\n",
    "elif operation == \"-\":\n",
    "    print(f\"The substraction of {num1} - {num2} is {num1 - num2}\")\n",
    "elif operation == \"*\":\n",
    "    print(f\"The product between {num1} and {num2} is {num1 * num2}\")\n",
    "elif operation == \"/\":\n",
    "    if num2 == 0:\n",
    "        print(\"Error division by zero\")\n",
    "    else:\n",
    "        print(f\"The division of {num1} divided by {num2} is {num1 / num2}\")\n",
    "else:\n",
    "    print(f\"The opertion no supported: {operation}\")"
   ]
  },
  {
   "cell_type": "code",
   "execution_count": null,
   "metadata": {},
   "outputs": [],
   "source": []
  },
  {
   "cell_type": "code",
   "execution_count": null,
   "metadata": {},
   "outputs": [],
   "source": []
  }
 ],
 "metadata": {
  "kernelspec": {
   "display_name": "Python 3",
   "language": "python",
   "name": "python3"
  },
  "language_info": {
   "codemirror_mode": {
    "name": "ipython",
    "version": 3
   },
   "file_extension": ".py",
   "mimetype": "text/x-python",
   "name": "python",
   "nbconvert_exporter": "python",
   "pygments_lexer": "ipython3",
   "version": "3.12.0"
  }
 },
 "nbformat": 4,
 "nbformat_minor": 2
}
