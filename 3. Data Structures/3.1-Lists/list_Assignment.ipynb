{
 "cells": [
  {
   "cell_type": "markdown",
   "metadata": {},
   "source": [
    "# Module 3: Data Structures Assignments\n",
    "## Lesson 3.1: Lists\n",
    "### Assignment 1: Creating and Accessing Lists\n",
    "\n",
    "Create a list of the first 20 positive integers. Print the list.\n",
    "\n",
    "### Assignment 2: Accessing List Elements\n",
    "\n",
    "Print the first, middle, and last elements of the list created in Assignment 1.\n",
    "\n",
    "### Assignment 3: List Slicing\n",
    "\n",
    "Print the first five elements, the last five elements, and the elements from index 5 to 15 of the list created in Assignment 1.\n",
    "\n",
    "### Assignment 4: List Comprehensions\n",
    "\n",
    "Create a new list containing the squares of the first 10 positive integers using a list comprehension. Print the new list.\n",
    "\n",
    "### Assignment 5: Filtering Lists\n",
    "\n",
    "Create a new list containing only the even numbers from the list created in Assignment 1 using a list comprehension. Print the new list.\n",
    "\n",
    "### Assignment 6: List Methods\n",
    "\n",
    "Create a list of random numbers and sort it in ascending and descending order. Remove the duplicates from the list and print the modified list.\n",
    "\n",
    "### Assignment 7: Nested Lists\n",
    "\n",
    "Create a nested list representing a 3x3 matrix and print the matrix. Access and print the element at the second row and third column.\n",
    "\n",
    "### Assignment 8: List of Dictionaries\n",
    "\n",
    "Create a list of dictionaries where each dictionary represents a student with keys 'name' and 'score'. Sort the list of dictionaries by the 'score' in descending order and print the sorted list.\n",
    "\n",
    "### Assignment 9: Matrix Transposition\n",
    "\n",
    "Write a function that takes a 3x3 matrix (nested list) as input and returns its transpose. Print the original and transposed matrices.\n",
    "\n",
    "### Assignment 10: Flattening a Nested List\n",
    "\n",
    "Write a function that takes a nested list and flattens it into a single list. Print the original and flattened lists.\n",
    "\n",
    "### Assignment 11: List Manipulation\n",
    "\n",
    "Create a list of the first 10 positive integers. Remove the elements at indices 2, 4, and 6, and insert the element '99' at index 5. Print the modified list.\n",
    "\n",
    "### Assignment 12: List Zipping\n",
    "\n",
    "Create two lists of the same length. Use the `zip` function to combine these lists into a list of tuples and print the result.\n",
    "\n",
    "### Assignment 13: List Reversal\n",
    "\n",
    "Write a function that takes a list and returns a new list with the elements in reverse order. Print the original and reversed lists.\n",
    "\n",
    "### Assignment 14: List Rotation\n",
    "\n",
    "Write a function that rotates a list by n positions. Print the original and rotated lists.\n",
    "\n",
    "### Assignment 15: List Intersection\n",
    "\n",
    "Write a function that takes two lists and returns a new list containing only the elements that are present in both lists. Print the intersected list."
   ]
  },
  {
   "cell_type": "code",
   "execution_count": 1,
   "metadata": {},
   "outputs": [
    {
     "name": "stdout",
     "output_type": "stream",
     "text": [
      "[1, 2, 3, 4, 5, 6, 7, 8, 9, 10, 11, 12, 13, 14, 15, 16, 17, 18, 19, 20]\n"
     ]
    }
   ],
   "source": [
    "## 1\n",
    "\n",
    "lst = [x for x in range(1,21)]\n",
    "print(lst)"
   ]
  },
  {
   "cell_type": "code",
   "execution_count": 11,
   "id": "8a080ef0",
   "metadata": {},
   "outputs": [
    {
     "name": "stdout",
     "output_type": "stream",
     "text": [
      "1\n",
      "10\n",
      "20\n"
     ]
    }
   ],
   "source": [
    "## 2\n",
    "print(lst[0])\n",
    "print(lst[int((len(lst)-1) // 2)])\n",
    "print(lst[len(lst)-1])"
   ]
  },
  {
   "cell_type": "code",
   "execution_count": 16,
   "id": "17d09fec",
   "metadata": {},
   "outputs": [
    {
     "name": "stdout",
     "output_type": "stream",
     "text": [
      "[1, 2, 3, 4, 5]\n",
      "[16, 17, 18, 19, 20]\n",
      "[6, 7, 8, 9, 10, 11, 12, 13, 14, 15, 16]\n"
     ]
    }
   ],
   "source": [
    "## 3\n",
    "\n",
    "print(lst[:5])\n",
    "print(lst[-5:])\n",
    "print(lst[5:16])"
   ]
  },
  {
   "cell_type": "code",
   "execution_count": 18,
   "id": "45378caa",
   "metadata": {},
   "outputs": [
    {
     "name": "stdout",
     "output_type": "stream",
     "text": [
      "[1, 4, 9, 16, 25, 36, 49, 64, 81, 100]\n"
     ]
    }
   ],
   "source": [
    "## 4\n",
    "\n",
    "squares = [x ** 2 for x in range(1,11)]\n",
    "print(squares)"
   ]
  },
  {
   "cell_type": "code",
   "execution_count": 19,
   "id": "f12cf3c3",
   "metadata": {},
   "outputs": [
    {
     "name": "stdout",
     "output_type": "stream",
     "text": [
      "[2, 4, 6, 8, 10, 12, 14, 16, 18, 20]\n"
     ]
    }
   ],
   "source": [
    "## 5 \n",
    "\n",
    "even_numbers = [x for x in lst if x%2 == 0]\n",
    "\n",
    "print(even_numbers)"
   ]
  },
  {
   "cell_type": "code",
   "execution_count": 24,
   "id": "a36d893f",
   "metadata": {},
   "outputs": [
    {
     "name": "stdout",
     "output_type": "stream",
     "text": [
      "[9, 9, 9, 9, 8, 7, 6, 6, 6, 5, 5, 5, 4, 4, 2]\n",
      "[2, 4, 5, 6, 7, 8, 9]\n"
     ]
    }
   ],
   "source": [
    "## 6\n",
    "import random\n",
    "\n",
    "new_lst = [random.randint(1,10) for i in range(15)]\n",
    "\n",
    "new_lst.sort()\n",
    "new_lst.reverse()\n",
    "\n",
    "print(new_lst)\n",
    "\n",
    "print(list(set(new_lst)))\n"
   ]
  },
  {
   "cell_type": "code",
   "execution_count": 26,
   "id": "fc7c2fd5",
   "metadata": {},
   "outputs": [
    {
     "name": "stdout",
     "output_type": "stream",
     "text": [
      "6\n"
     ]
    }
   ],
   "source": [
    "## 7\n",
    "matrix = [\n",
    "    [1,2,3],[4,5,6],[7,8,9]\n",
    "]\n",
    "\n",
    "print(matrix[1][2])"
   ]
  },
  {
   "cell_type": "code",
   "execution_count": 31,
   "id": "bde5a1d8",
   "metadata": {},
   "outputs": [
    {
     "name": "stdout",
     "output_type": "stream",
     "text": [
      "[{'name': 'Flores', 'score': 9}, {'name': 'Brayan', 'score': 10}]\n"
     ]
    }
   ],
   "source": [
    "## 8\n",
    "\n",
    "students = [{\"name\": \"Brayan\",\"score\": 10},{\"name\": \"Flores\",\"score\": 9}]\n",
    "\n",
    "students.sort(key = lambda student: student[\"score\"])\n",
    "print(students)"
   ]
  },
  {
   "cell_type": "code",
   "execution_count": 12,
   "id": "08dbe142",
   "metadata": {},
   "outputs": [
    {
     "name": "stdout",
     "output_type": "stream",
     "text": [
      "3\n",
      "[[1, 4, 7], [2, 5, 8], [3, 6, 9]]\n"
     ]
    }
   ],
   "source": [
    "matrix = [\n",
    "    [1,2,3],\n",
    "    [4,5,6],\n",
    "    [7,8,9]\n",
    "]\n",
    "\n",
    "print(len(matrix))\n",
    "\n",
    "matrixT = [[matrix[i][j] for i in range(len(matrix))] for j in range(len(matrix[0]))]\n",
    "\n",
    "print(matrixT)"
   ]
  },
  {
   "cell_type": "code",
   "execution_count": 15,
   "id": "0bc133aa",
   "metadata": {},
   "outputs": [
    {
     "name": "stdout",
     "output_type": "stream",
     "text": [
      "[1, 2, 4, 78, 9, 7, 8, 9, 10, 2, 47, 8, 58, 54, 54, 1, 5, 7, 1]\n"
     ]
    }
   ],
   "source": [
    "## 10\n",
    "\n",
    "nested_lst = [[1,2],[4,78,9,[7,8,9,10,[2,47,8]]],[58,54,54,[1,[5,7]],1]]\n",
    "\n",
    "new_lst = [] \n",
    "\n",
    "def flatting_list(lst,new_lst):\n",
    "    for i in lst:\n",
    "        if isinstance(i,list):\n",
    "            flatting_list(i,new_lst)\n",
    "        else:\n",
    "            new_lst.append(i)\n",
    "\n",
    "flatting_list(nested_lst,new_lst)\n",
    "\n",
    "print(new_lst)"
   ]
  },
  {
   "cell_type": "code",
   "execution_count": 19,
   "id": "f82b0f37",
   "metadata": {},
   "outputs": [
    {
     "name": "stdout",
     "output_type": "stream",
     "text": [
      "[1, 2, 3, 4, 5, 6, 7, 8, 9, 10]\n",
      "[1, 2, 4, 6, 8, 99, 9, 10]\n"
     ]
    }
   ],
   "source": [
    "## 11\n",
    "\n",
    "lst = [i for i in range(1,11)]\n",
    "print(lst)\n",
    "\n",
    "del lst[6]\n",
    "del lst[4]\n",
    "del lst[2]\n",
    "\n",
    "lst.insert(5,99)\n",
    "\n",
    "print(lst)"
   ]
  },
  {
   "cell_type": "code",
   "execution_count": 21,
   "id": "8fe2c53d",
   "metadata": {},
   "outputs": [
    {
     "name": "stdout",
     "output_type": "stream",
     "text": [
      "[(1, 5), (2, 4), (3, 3), (4, 2), (5, 1)]\n"
     ]
    }
   ],
   "source": [
    "lst1 = [1,2,3,4,5]\n",
    "lst2 = [5,4,3,2,1]\n",
    "\n",
    "lst3 = zip(lst1,lst2)\n",
    "print(list(lst3))"
   ]
  },
  {
   "cell_type": "code",
   "execution_count": 23,
   "id": "50891510",
   "metadata": {},
   "outputs": [
    {
     "name": "stdout",
     "output_type": "stream",
     "text": [
      "[1, 2, 3, 4, 5]\n",
      "[5, 4, 3, 2, 1]\n"
     ]
    }
   ],
   "source": [
    "def reverse_list(lst):\n",
    "    return lst[::-1]\n",
    "\n",
    "lst1 = [1,2,3,4,5]\n",
    "\n",
    "lst2 = reverse_list(lst1)\n",
    "\n",
    "print(lst1)\n",
    "print(lst2)"
   ]
  },
  {
   "cell_type": "code",
   "execution_count": 33,
   "id": "c91041a2",
   "metadata": {},
   "outputs": [
    {
     "name": "stdout",
     "output_type": "stream",
     "text": [
      "[3, 4, 5, 1, 2]\n"
     ]
    }
   ],
   "source": [
    "# 14\n",
    "def rotate_list(lst,n):\n",
    "    return lst[n:] + lst[:n]\n",
    "n = int(input(\"Number: \"))\n",
    "\n",
    "lst = [1,2,3,4,5]\n",
    "\n",
    "print(rotate_list(lst,n))\n",
    "\n"
   ]
  },
  {
   "cell_type": "code",
   "execution_count": 34,
   "id": "4540bb37",
   "metadata": {},
   "outputs": [
    {
     "name": "stdout",
     "output_type": "stream",
     "text": [
      "[1, 3, 9, 7]\n"
     ]
    }
   ],
   "source": [
    "#15\n",
    "\n",
    "lst1 = [11,5,8,1,3,5,7,9]\n",
    "lst2 = [1,3,9,77,77,41,54,7,1,6]\n",
    "\n",
    "def shared_list(lst1,lst2):\n",
    "    return list(set([i for i in lst1 if lst2.count(i) > 0]))\n",
    "\n",
    "lst3 = shared_list(lst1,lst2)\n",
    "\n",
    "print(lst3)"
   ]
  },
  {
   "cell_type": "code",
   "execution_count": null,
   "id": "235117d9",
   "metadata": {},
   "outputs": [],
   "source": []
  }
 ],
 "metadata": {
  "kernelspec": {
   "display_name": "Python 3",
   "language": "python",
   "name": "python3"
  },
  "language_info": {
   "codemirror_mode": {
    "name": "ipython",
    "version": 3
   },
   "file_extension": ".py",
   "mimetype": "text/x-python",
   "name": "python",
   "nbconvert_exporter": "python",
   "pygments_lexer": "ipython3",
   "version": "3.12.0"
  }
 },
 "nbformat": 4,
 "nbformat_minor": 5
}
