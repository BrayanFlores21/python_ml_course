{
 "cells": [
  {
   "cell_type": "markdown",
   "metadata": {},
   "source": [
    "## Dictionaries\n",
    "\n",
    "Video Outline:\n",
    "\n",
    "1. Introduction to Dictionaries\n",
    "2. Creating Dictionaries.\n",
    "3. Accessing dictionary elements\n",
    "4. Modifying dictionary elements\n",
    "5. Dictionary methods\n",
    "6. Iterating over dictionaries\n",
    "7. Nested dictionaries\n",
    "8. Dictionary Comprehensions\n",
    "9. Practical examples and common error\n",
    "\n",
    "#### Introduction to Dictionaries\n",
    "\n",
    "Dictionaries are unordered collections of items. They store data in key-value pairs. Key must be unique and immutable (eg. string, number, or tuples) while values can be any type."
   ]
  },
  {
   "cell_type": "code",
   "execution_count": 1,
   "metadata": {},
   "outputs": [
    {
     "name": "stdout",
     "output_type": "stream",
     "text": [
      "<class 'dict'>\n"
     ]
    }
   ],
   "source": [
    "## Creating dictionaries\n",
    "\n",
    "empty_dict = {}\n",
    "print(type(empty_dict))"
   ]
  },
  {
   "cell_type": "code",
   "execution_count": 2,
   "metadata": {},
   "outputs": [
    {
     "data": {
      "text/plain": [
       "{}"
      ]
     },
     "execution_count": 2,
     "metadata": {},
     "output_type": "execute_result"
    }
   ],
   "source": [
    "empty_dict = dict()\n",
    "empty_dict"
   ]
  },
  {
   "cell_type": "code",
   "execution_count": 3,
   "metadata": {},
   "outputs": [
    {
     "name": "stdout",
     "output_type": "stream",
     "text": [
      "{'name': 'Brayan', 'age': 24, 'grade': 10}\n",
      "<class 'dict'>\n"
     ]
    }
   ],
   "source": [
    "student = {\"name\":\"Brayan\",\"age\":24,\"grade\":10}\n",
    "print(student)\n",
    "print(type(student))"
   ]
  },
  {
   "cell_type": "code",
   "execution_count": 4,
   "metadata": {},
   "outputs": [
    {
     "name": "stdout",
     "output_type": "stream",
     "text": [
      "{'name': 1, 'age': 24}\n"
     ]
    }
   ],
   "source": [
    "## Single key is always used\n",
    "student = {\"name\":\"Brayan\",\"age\":24,\"name\":1}\n",
    "print(student)"
   ]
  },
  {
   "cell_type": "code",
   "execution_count": 5,
   "metadata": {},
   "outputs": [
    {
     "name": "stdout",
     "output_type": "stream",
     "text": [
      "Brayan\n",
      "A\n"
     ]
    }
   ],
   "source": [
    "## Accessing dictionary elements\n",
    "student = {\"name\":\"Brayan\",\"age\":24,\"grade\":'A'}\n",
    "print(student[\"name\"])\n",
    "print(student[\"grade\"])"
   ]
  },
  {
   "cell_type": "code",
   "execution_count": 6,
   "metadata": {},
   "outputs": [
    {
     "name": "stdout",
     "output_type": "stream",
     "text": [
      "Brayan\n",
      "A\n",
      "None\n",
      "Not available\n"
     ]
    }
   ],
   "source": [
    "## Accessing using get() method\n",
    "print(student.get(\"name\"))\n",
    "print(student.get(\"grade\"))\n",
    "print(student.get(\"last_name\"))\n",
    "print(student.get(\"last_name\",\"Not available\"))"
   ]
  },
  {
   "cell_type": "code",
   "execution_count": 7,
   "metadata": {},
   "outputs": [
    {
     "name": "stdout",
     "output_type": "stream",
     "text": [
      "{'name': 'Brayan', 'age': 24, 'grade': 'A'}\n"
     ]
    }
   ],
   "source": [
    "## Modifyng Dictionary Elements\n",
    "## Dictionary elements are mutable, so you can add, update, or delete elements\n",
    "print(student)"
   ]
  },
  {
   "cell_type": "code",
   "execution_count": null,
   "metadata": {},
   "outputs": [
    {
     "name": "stdout",
     "output_type": "stream",
     "text": [
      "{'name': 'Brayan', 'age': 25, 'grade': 'A'}\n",
      "{'name': 'Brayan', 'age': 25, 'grade': 'A', 'address': 'Mexico'}\n"
     ]
    }
   ],
   "source": [
    "student[\"age\"] = 25 ## update value\n",
    "print(student)\n",
    "student[\"address\"] = \"Mexico\" ## add a new element\n",
    "print(student)"
   ]
  },
  {
   "cell_type": "code",
   "execution_count": null,
   "metadata": {},
   "outputs": [
    {
     "name": "stdout",
     "output_type": "stream",
     "text": [
      "{'name': 'Brayan', 'age': 25, 'address': 'Mexico'}\n"
     ]
    }
   ],
   "source": [
    "del student[\"grade\"] ## delete key and value pair\n",
    "\n",
    "print(student)"
   ]
  },
  {
   "cell_type": "code",
   "execution_count": 13,
   "metadata": {},
   "outputs": [
    {
     "name": "stdout",
     "output_type": "stream",
     "text": [
      "dict_keys(['name', 'age', 'address'])\n",
      "dict_values(['Brayan', 25, 'Mexico'])\n",
      "dict_items([('name', 'Brayan'), ('age', 25), ('address', 'Mexico')])\n"
     ]
    }
   ],
   "source": [
    "## Dictionary methods\n",
    "\n",
    "keys = student.keys()\n",
    "print(keys)\n",
    "values = student.values()\n",
    "print(values)\n",
    "items = student.items()\n",
    "print(items)"
   ]
  },
  {
   "cell_type": "code",
   "execution_count": 18,
   "metadata": {},
   "outputs": [
    {
     "name": "stdout",
     "output_type": "stream",
     "text": [
      "{'name': 'Brayan1', 'age': 25, 'address': 'Mexico'}\n",
      "{'name': 'Brayan1', 'age': 25, 'address': 'Mexico'}\n"
     ]
    }
   ],
   "source": [
    "## Shallow copy\n",
    "student_copy = student\n",
    "print(student) \n",
    "print(student_copy)"
   ]
  },
  {
   "cell_type": "code",
   "execution_count": 19,
   "metadata": {},
   "outputs": [
    {
     "name": "stdout",
     "output_type": "stream",
     "text": [
      "{'name': 'Brayan1', 'age': 25, 'address': 'Mexico'}\n",
      "{'name': 'Brayan1', 'age': 25, 'address': 'Mexico'}\n"
     ]
    }
   ],
   "source": [
    "student[\"name\"] = \"Brayan1\"\n",
    "print(student)\n",
    "print(student_copy)"
   ]
  },
  {
   "cell_type": "code",
   "execution_count": 23,
   "metadata": {},
   "outputs": [
    {
     "name": "stdout",
     "output_type": "stream",
     "text": [
      "{'name': 'Brayan2', 'age': 25, 'address': 'Mexico'}\n",
      "{'name': 'Brayan3', 'age': 25, 'address': 'Mexico'}\n",
      "{'name': 'Brayan2', 'age': 25, 'address': 'Mexico'}\n"
     ]
    }
   ],
   "source": [
    "student_copy1 = student.copy() ## Shallow copy\n",
    "print(student_copy1)\n",
    "student_copy1[\"name\"] = \"Brayan3\"\n",
    "print(student_copy1)\n",
    "print(student)"
   ]
  },
  {
   "cell_type": "code",
   "execution_count": 24,
   "metadata": {},
   "outputs": [
    {
     "name": "stdout",
     "output_type": "stream",
     "text": [
      "name\n",
      "age\n",
      "address\n"
     ]
    }
   ],
   "source": [
    "## Iterating over dictionaries\n",
    "# You can use loops to iterate over dictionaries, key, values or items\n",
    "\n",
    "## Iterating over keys\n",
    "\n",
    "for key in student.keys():\n",
    "    print(key)"
   ]
  },
  {
   "cell_type": "code",
   "execution_count": 25,
   "metadata": {},
   "outputs": [
    {
     "name": "stdout",
     "output_type": "stream",
     "text": [
      "Brayan2\n",
      "25\n",
      "Mexico\n"
     ]
    }
   ],
   "source": [
    "## Iterate over values\n",
    "for value in student.values():\n",
    "    print(value)"
   ]
  },
  {
   "cell_type": "code",
   "execution_count": 26,
   "metadata": {},
   "outputs": [
    {
     "name": "stdout",
     "output_type": "stream",
     "text": [
      "name: Brayan2\n",
      "age: 25\n",
      "address: Mexico\n"
     ]
    }
   ],
   "source": [
    "## Iterating over items\n",
    "for key,value in student.items():\n",
    "    print(f\"{key}: {value}\")"
   ]
  },
  {
   "cell_type": "code",
   "execution_count": 27,
   "metadata": {},
   "outputs": [
    {
     "name": "stdout",
     "output_type": "stream",
     "text": [
      "{'student1': {'name': 'Brayan', 'age': 24}, 'student2': {'name': 'Peter', 'age': 26}}\n"
     ]
    }
   ],
   "source": [
    "## Nested dictionaries\n",
    "students = {\n",
    "    \"student1\": {\"name\":\"Brayan\", \"age\":24},\n",
    "    \"student2\": {\"name\":\"Peter\", \"age\":26}\n",
    "}\n",
    "print(students)"
   ]
  },
  {
   "cell_type": "code",
   "execution_count": 28,
   "metadata": {},
   "outputs": [
    {
     "name": "stdout",
     "output_type": "stream",
     "text": [
      "Brayan\n",
      "24\n"
     ]
    }
   ],
   "source": [
    "## Access nested dictionaries elements\n",
    "print(students[\"student1\"][\"name\"])\n",
    "print(students[\"student1\"][\"age\"])"
   ]
  },
  {
   "cell_type": "code",
   "execution_count": 29,
   "metadata": {},
   "outputs": [
    {
     "name": "stdout",
     "output_type": "stream",
     "text": [
      "student1: {'name': 'Brayan', 'age': 24}\n",
      "name: Brayan\n",
      "age: 24\n",
      "student2: {'name': 'Peter', 'age': 26}\n",
      "name: Peter\n",
      "age: 26\n"
     ]
    }
   ],
   "source": [
    "## Iterating over nested dictionaries\n",
    "for student_id, student_info in students.items():\n",
    "    print(f\"{student_id}: {student_info}\")\n",
    "    for key, value in student_info.items():\n",
    "        print(f\"{key}: {value}\")"
   ]
  },
  {
   "cell_type": "code",
   "execution_count": 30,
   "metadata": {},
   "outputs": [
    {
     "name": "stdout",
     "output_type": "stream",
     "text": [
      "{0: 0, 1: 1, 2: 4, 3: 9, 4: 16}\n"
     ]
    }
   ],
   "source": [
    "## Dictionary comprehension\n",
    "\n",
    "my_dict = {x:x**2 for x in range(5)}\n",
    "print(my_dict)"
   ]
  },
  {
   "cell_type": "code",
   "execution_count": null,
   "metadata": {},
   "outputs": [
    {
     "name": "stdout",
     "output_type": "stream",
     "text": [
      "{0: 0, 2: 4, 4: 16, 6: 36, 8: 64, 10: 100}\n"
     ]
    }
   ],
   "source": [
    "## Condition dictionary comprehension\n",
    "my_dict2 = {x:x ** 2 for x in range(12) if x%2 == 0}\n",
    "print(my_dict2)"
   ]
  },
  {
   "cell_type": "code",
   "execution_count": 32,
   "metadata": {},
   "outputs": [
    {
     "name": "stdout",
     "output_type": "stream",
     "text": [
      "{1: 1, 2: 3, 3: 4, 4: 2, 5: 6, 6: 2}\n"
     ]
    }
   ],
   "source": [
    "## Use dictionary to count the frecuency of elements in list\n",
    "\n",
    "numbers = [1,2,2,2,3,3,3,3,4,4,5,5,5,5,5,5,6,6]\n",
    "unique_numbers = set(numbers)\n",
    "my_dict = {}\n",
    "for i in unique_numbers:\n",
    "    my_dict[i] = numbers.count(i)\n",
    "print(my_dict)"
   ]
  },
  {
   "cell_type": "code",
   "execution_count": null,
   "metadata": {},
   "outputs": [],
   "source": [
    "my_dict = {}\n",
    "\n",
    "for i in numbers:\n",
    "    if i in my_dict:\n",
    "        my_dict[i] += 1\n",
    "    else:\n",
    "        my_dict[i] = 1\n",
    "print(my_dict)"
   ]
  },
  {
   "cell_type": "code",
   "execution_count": 33,
   "metadata": {},
   "outputs": [
    {
     "name": "stdout",
     "output_type": "stream",
     "text": [
      "{'a': 1, 'b': '3', 'c': 4}\n"
     ]
    }
   ],
   "source": [
    "## Merge 2 dictionaries into one \n",
    "dict1 = {\"a\": 1, \"b\":2}\n",
    "dict2 = {\"b\":\"3\", \"c\":4}\n",
    "\n",
    "merged_dict = {**dict1,**dict2}\n",
    "print(merged_dict)"
   ]
  },
  {
   "cell_type": "code",
   "execution_count": null,
   "metadata": {},
   "outputs": [],
   "source": []
  }
 ],
 "metadata": {
  "kernelspec": {
   "display_name": "Python 3",
   "language": "python",
   "name": "python3"
  },
  "language_info": {
   "codemirror_mode": {
    "name": "ipython",
    "version": 3
   },
   "file_extension": ".py",
   "mimetype": "text/x-python",
   "name": "python",
   "nbconvert_exporter": "python",
   "pygments_lexer": "ipython3",
   "version": "3.12.0"
  }
 },
 "nbformat": 4,
 "nbformat_minor": 2
}
