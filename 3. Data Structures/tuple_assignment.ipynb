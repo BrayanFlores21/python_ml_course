{
 "cells": [
  {
   "cell_type": "markdown",
   "id": "6cade624",
   "metadata": {},
   "source": [
    "# Module 3: Data Structures Assignments\n",
    "## Lesson 3.2: Tuples\n",
    "### Assignment 1: Creating and Accessing Tuples\n",
    "\n",
    "Create a tuple with the first 10 positive integers. Print the tuple.\n",
    "\n",
    "### Assignment 2: Accessing Tuple Elements\n",
    "\n",
    "Print the first, middle, and last elements of the tuple created in Assignment 1.\n",
    "\n",
    "### Assignment 3: Tuple Slicing\n",
    "\n",
    "Print the first three elements, the last three elements, and the elements from index 2 to 5 of the tuple created in Assignment 1.\n",
    "\n",
    "### Assignment 4: Nested Tuples\n",
    "\n",
    "Create a nested tuple representing a 3x3 matrix and print the matrix. Access and print the element at the second row and third column.\n",
    "\n",
    "### Assignment 5: Tuple Concatenation\n",
    "\n",
    "Concatenate two tuples: (1, 2, 3) and (4, 5, 6). Print the resulting tuple.\n",
    "\n",
    "### Assignment 6: Tuple Methods\n",
    "\n",
    "Create a tuple with duplicate elements and count the occurrences of an element. Find the index of the first occurrence of an element in the tuple.\n",
    "\n",
    "### Assignment 7: Unpacking Tuples\n",
    "\n",
    "Create a tuple with 5 elements and unpack it into 5 variables. Print the variables.\n",
    "\n",
    "### Assignment 8: Tuple Conversion\n",
    "\n",
    "Convert a list of the first 5 positive integers to a tuple. Print the tuple.\n",
    "\n",
    "### Assignment 9: Tuple of Tuples\n",
    "\n",
    "Create a tuple containing 3 tuples, each with 3 elements. Print the tuple of tuples.\n",
    "\n",
    "### Assignment 10: Tuple and List\n",
    "\n",
    "Create a tuple with the first 5 positive integers. Convert it to a list, append the number 6, and convert it back to a tuple. Print the resulting tuple.\n",
    "\n",
    "### Assignment 11: Tuple and String\n",
    "\n",
    "Create a tuple with the characters of a string. Join the tuple elements into a single string. Print the string.\n",
    "\n",
    "### Assignment 12: Tuple and Dictionary\n",
    "\n",
    "Create a dictionary with tuple keys and integer values. Print the dictionary.\n",
    "\n",
    "### Assignment 13: Nested Tuple Iteration\n",
    "\n",
    "Create a nested tuple and iterate over the elements, printing each element.\n",
    "\n",
    "### Assignment 14: Tuple and Set\n",
    "\n",
    "Create a tuple with duplicate elements. Convert it to a set to remove duplicates and print the resulting set.\n",
    "\n",
    "### Assignment 15: Tuple Functions\n",
    "\n",
    "Write functions that take a tuple and return the minimum, maximum, and sum of the elements. Print the results for a sample tuple."
   ]
  },
  {
   "cell_type": "code",
   "execution_count": 3,
   "metadata": {},
   "outputs": [
    {
     "name": "stdout",
     "output_type": "stream",
     "text": [
      "(1, 2, 3, 4, 5, 6, 7, 8, 9, 10)\n"
     ]
    }
   ],
   "source": [
    "## 1\n",
    "\n",
    "tpl = tuple(range(1,11))\n",
    "print(tpl)"
   ]
  },
  {
   "cell_type": "code",
   "execution_count": 5,
   "id": "1ee4dfb0",
   "metadata": {},
   "outputs": [
    {
     "name": "stdout",
     "output_type": "stream",
     "text": [
      "1\n",
      "6\n",
      "10\n"
     ]
    }
   ],
   "source": [
    "## 2\n",
    "print(tpl[0])\n",
    "print(tpl[len(tpl)// 2])\n",
    "print(tpl[-1])"
   ]
  },
  {
   "cell_type": "code",
   "execution_count": 10,
   "id": "16b129a2",
   "metadata": {},
   "outputs": [
    {
     "name": "stdout",
     "output_type": "stream",
     "text": [
      "(1, 2, 3)\n",
      "(8, 9, 10)\n",
      "(3, 4, 5, 6)\n"
     ]
    }
   ],
   "source": [
    "## 3\n",
    "\n",
    "print(tpl[:3])\n",
    "print(tpl[-3:])\n",
    "print(tpl[2:6])"
   ]
  },
  {
   "cell_type": "code",
   "execution_count": null,
   "id": "916ff3bc",
   "metadata": {},
   "outputs": [
    {
     "name": "stdout",
     "output_type": "stream",
     "text": [
      "((1, 2, 3), (4, 5, 6), (7, 8, 9))\n",
      "6\n"
     ]
    }
   ],
   "source": [
    "# 4\n",
    "tpl_matrix = (\n",
    "    (1,2,3),\n",
    "    (4,5,6),\n",
    "    (7,8,9)\n",
    ")\n",
    "print(tpl_matrix)\n",
    "print(tpl_matrix[1][2])"
   ]
  },
  {
   "cell_type": "code",
   "execution_count": 14,
   "id": "f116b971",
   "metadata": {},
   "outputs": [
    {
     "name": "stdout",
     "output_type": "stream",
     "text": [
      "(1, 2, 3, 4, 5, 6)\n"
     ]
    }
   ],
   "source": [
    "# 5\n",
    "\n",
    "tpl1 = (1,2,3)\n",
    "tpl2 = (4,5,6)\n",
    "\n",
    "concateneted = tpl1 + tpl2\n",
    "print(concateneted)"
   ]
  },
  {
   "cell_type": "code",
   "execution_count": null,
   "id": "9831c724",
   "metadata": {},
   "outputs": [
    {
     "name": "stdout",
     "output_type": "stream",
     "text": [
      "2\n",
      "3\n"
     ]
    }
   ],
   "source": [
    "# 6\n",
    "tpl_occurrences = (1,2,3,4,4,5,6,7,7)\n",
    "\n",
    "occurrences = tpl_occurrences.count(4)\n",
    "\n",
    "print(occurrences)\n",
    "\n",
    "index = tpl_occurrences.index(4)\n",
    "\n",
    "print(index)"
   ]
  },
  {
   "cell_type": "code",
   "execution_count": 19,
   "id": "cbd2fd20",
   "metadata": {},
   "outputs": [
    {
     "name": "stdout",
     "output_type": "stream",
     "text": [
      "1 2 3 4 5\n"
     ]
    }
   ],
   "source": [
    "# 7\n",
    "tpl = (1,2,3,4,5)\n",
    "x,y,z,y1,y2 = tpl\n",
    "\n",
    "print(x,y,z,y1,y2)"
   ]
  },
  {
   "cell_type": "code",
   "execution_count": 21,
   "id": "7fc70863",
   "metadata": {},
   "outputs": [
    {
     "name": "stdout",
     "output_type": "stream",
     "text": [
      "(1, 2, 3, 4, 5)\n"
     ]
    }
   ],
   "source": [
    "#8 \n",
    "\n",
    "tpl = tuple([1,2,3,4,5])\n",
    "print(tpl)"
   ]
  },
  {
   "cell_type": "code",
   "execution_count": 24,
   "id": "492c8376",
   "metadata": {},
   "outputs": [
    {
     "name": "stdout",
     "output_type": "stream",
     "text": [
      "((1, 2, 3), (4, 5, 6), (7, 8, 9))\n"
     ]
    }
   ],
   "source": [
    "# 9\n",
    "\n",
    "tpl_matrix = (\n",
    "    (1,2,3),\n",
    "    (4,5,6),\n",
    "    (7,8,9)\n",
    ")\n",
    "\n",
    "print(tpl_matrix)"
   ]
  },
  {
   "cell_type": "code",
   "execution_count": 26,
   "id": "bdfb51c0",
   "metadata": {},
   "outputs": [
    {
     "name": "stdout",
     "output_type": "stream",
     "text": [
      "(1, 2, 3, 4, 5, 6)\n"
     ]
    }
   ],
   "source": [
    "## 10\n",
    "tpl = tuple(range(1,6))\n",
    "lst = list(tpl)\n",
    "lst.append(6)\n",
    "tpl = tuple(lst)\n",
    "print(tpl)"
   ]
  },
  {
   "cell_type": "code",
   "execution_count": 34,
   "id": "1c08fc44",
   "metadata": {},
   "outputs": [
    {
     "name": "stdout",
     "output_type": "stream",
     "text": [
      "('H', 'e', 'l', 'l', 'o')\n",
      "Hello\n"
     ]
    }
   ],
   "source": [
    "## 11\n",
    "s = \"Hello\"\n",
    "tpl = tuple(s)\n",
    "print(tpl)\n",
    "s = ''.join(s)\n",
    "print(s)"
   ]
  },
  {
   "cell_type": "code",
   "execution_count": 38,
   "id": "9f32953f",
   "metadata": {},
   "outputs": [
    {
     "name": "stdout",
     "output_type": "stream",
     "text": [
      "<class 'dict'>\n",
      "{'name': 'Brayan', 'age': 12}\n",
      "{(1, 2): 3, (4, 5): 6, (7, 8): 9}\n"
     ]
    }
   ],
   "source": [
    "## 12\n",
    "tpl_k = [(\"name\",\"Brayan\"),(\"age\",12)]\n",
    "dic = {}\n",
    "for tp in tpl_k:\n",
    "    dic[tp[0]] = tp[1]\n",
    "print(type(dic))\n",
    "print(dic)\n",
    "\n",
    "d = {\n",
    "    (1,2): 3,\n",
    "    (4,5): 6,\n",
    "    (7,8): 9\n",
    "}\n",
    "print(d)"
   ]
  },
  {
   "cell_type": "code",
   "execution_count": null,
   "id": "94520d05",
   "metadata": {},
   "outputs": [
    {
     "name": "stdout",
     "output_type": "stream",
     "text": [
      "((1, 2, 3), (4, 5, 6), (7, 8, 9))\n",
      "1\n",
      "2\n",
      "3\n",
      "4\n",
      "5\n",
      "6\n",
      "7\n",
      "8\n",
      "9\n"
     ]
    }
   ],
   "source": [
    "## 13\n",
    "nested_tuple = (\n",
    "    (1,2,3),\n",
    "    (4,5,6),\n",
    "    (7,8,9)\n",
    ")\n",
    "\n",
    "print(nested_tuple)\n",
    "\n",
    "for tpl in nested_tuple:\n",
    "    for i in tpl:\n",
    "        print(i)"
   ]
  },
  {
   "cell_type": "code",
   "execution_count": 43,
   "id": "0f90bf8f",
   "metadata": {},
   "outputs": [
    {
     "name": "stdout",
     "output_type": "stream",
     "text": [
      "{1, 2, 4, 5, 7, 8, 9}\n"
     ]
    }
   ],
   "source": [
    "## 14\n",
    "\n",
    "duplicated_tpl = (1,1,2,2,4,5,8,9,9,1,7)\n",
    "set_tpl = set(duplicated_tpl)\n",
    "print(set_tpl)"
   ]
  },
  {
   "cell_type": "code",
   "execution_count": 44,
   "id": "bf452bc4",
   "metadata": {},
   "outputs": [
    {
     "name": "stdout",
     "output_type": "stream",
     "text": [
      "(9, 1, 30)\n"
     ]
    }
   ],
   "source": [
    "## 15\n",
    "\n",
    "tpl = (1,4,8,9,5,1,2)\n",
    "tpl1 = (max(tpl),min(tpl),sum(tpl))\n",
    "print(tpl1)"
   ]
  },
  {
   "cell_type": "code",
   "execution_count": null,
   "id": "58bc6a18",
   "metadata": {},
   "outputs": [],
   "source": []
  }
 ],
 "metadata": {
  "kernelspec": {
   "display_name": "Python 3",
   "language": "python",
   "name": "python3"
  },
  "language_info": {
   "codemirror_mode": {
    "name": "ipython",
    "version": 3
   },
   "file_extension": ".py",
   "mimetype": "text/x-python",
   "name": "python",
   "nbconvert_exporter": "python",
   "pygments_lexer": "ipython3",
   "version": "3.12.0"
  }
 },
 "nbformat": 4,
 "nbformat_minor": 5
}
