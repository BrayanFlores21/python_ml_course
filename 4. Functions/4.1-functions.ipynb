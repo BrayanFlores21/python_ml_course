{
 "cells": [
  {
   "cell_type": "markdown",
   "metadata": {},
   "source": [
    "## Functions in Python\n",
    "\n",
    "Video Outline:\n",
    "\n",
    "- Intrduction to Functions\n",
    "- Defining Functions\n",
    "- Calling functions\n",
    "- Function parameters\n",
    "- Default parameters\n",
    "- Variable-Lenght Arguments\n",
    "- Return statement\n",
    "\n",
    "#### Introduction to Functions\n",
    "\n",
    "Definition:\n",
    "\n",
    "A function is a block of code that performs a specific task. Functions help in organizing, reuse code, and improving readability."
   ]
  },
  {
   "cell_type": "code",
   "execution_count": null,
   "metadata": {},
   "outputs": [],
   "source": [
    "## Syntax\n",
    "\n",
    "def function_name(parameters):\n",
    "    \"\"\"Docstring\"\"\"\n",
    "    # Function body\n",
    "    return parameters"
   ]
  },
  {
   "cell_type": "code",
   "execution_count": 1,
   "metadata": {},
   "outputs": [
    {
     "name": "stdout",
     "output_type": "stream",
     "text": [
      "The number is even\n"
     ]
    }
   ],
   "source": [
    "## Why Functions ? \n",
    "\n",
    "num = 24\n",
    "\n",
    "if num%2 == 0:\n",
    "    print(\"The number is even\")\n",
    "else:\n",
    "    print(\"The number is odd\")"
   ]
  },
  {
   "cell_type": "code",
   "execution_count": null,
   "metadata": {},
   "outputs": [],
   "source": [
    "# Create a function\n",
    "def even_or_odd(num):\n",
    "    \"\"\"The function finds even or odd\"\"\"\n",
    "    if num%2 == 0:\n",
    "        print(\"The number is even\")\n",
    "    else:\n",
    "        print(\"The number is odd\")"
   ]
  },
  {
   "cell_type": "code",
   "execution_count": null,
   "metadata": {},
   "outputs": [
    {
     "name": "stdout",
     "output_type": "stream",
     "text": [
      "The number is odd\n"
     ]
    }
   ],
   "source": [
    "# Call a functionS\n",
    "even_or_odd(35)"
   ]
  },
  {
   "cell_type": "code",
   "execution_count": 4,
   "metadata": {},
   "outputs": [
    {
     "name": "stdout",
     "output_type": "stream",
     "text": [
      "3\n"
     ]
    }
   ],
   "source": [
    "## Function with multiple variables\n",
    "\n",
    "def add(a, b):\n",
    "    return a+b\n",
    "\n",
    "print(add(1,2))"
   ]
  },
  {
   "cell_type": "code",
   "execution_count": 2,
   "metadata": {},
   "outputs": [
    {
     "name": "stdout",
     "output_type": "stream",
     "text": [
      "Welcome Brayan\n"
     ]
    }
   ],
   "source": [
    "## Greet\n",
    "def greet(name=\"Guest\"):\n",
    "    print(f\"Welcome {name}\")\n",
    "\n",
    "greet(\"Brayan\")"
   ]
  },
  {
   "cell_type": "code",
   "execution_count": 3,
   "metadata": {},
   "outputs": [
    {
     "name": "stdout",
     "output_type": "stream",
     "text": [
      "1\n",
      "2\n",
      "3\n",
      "4\n",
      "5\n",
      "6\n",
      "4\n",
      "7\n",
      "8\n",
      "9\n",
      "A\n"
     ]
    }
   ],
   "source": [
    "## Positional arguments\n",
    "def print_numbers(*args):\n",
    "    for number in args:\n",
    "        print(f\"{number}\")\n",
    "\n",
    "print_numbers(1,2,3,4,5,6,4,7,8,9,\"A\");"
   ]
  },
  {
   "cell_type": "code",
   "execution_count": 7,
   "metadata": {},
   "outputs": [
    {
     "name": "stdout",
     "output_type": "stream",
     "text": [
      "name: Brayan\n",
      "country: Mexico\n",
      "age: 24\n"
     ]
    }
   ],
   "source": [
    "## Keywords arguments\n",
    "\n",
    "def print_details(**kwargs):\n",
    "    for key,value in kwargs.items():\n",
    "        print(f\"{key}: {value}\")\n",
    "\n",
    "print_details(name=\"Brayan\",country=\"Mexico\",age=24)"
   ]
  },
  {
   "cell_type": "code",
   "execution_count": 8,
   "metadata": {},
   "outputs": [
    {
     "name": "stdout",
     "output_type": "stream",
     "text": [
      "1\n",
      "2\n",
      "5\n",
      "6\n",
      "48\n",
      "4\n",
      "country: 20\n",
      "a: 10\n"
     ]
    }
   ],
   "source": [
    "def print_detail(*args, **kwargs):\n",
    "    for val in args:\n",
    "        print(f\"{val}\")\n",
    "\n",
    "    for key,value in kwargs.items():\n",
    "        print(f\"{key}: {value}\")\n",
    "\n",
    "print_detail(1,2,5,6,48,4,country=20,a=10)"
   ]
  },
  {
   "cell_type": "code",
   "execution_count": 9,
   "metadata": {},
   "outputs": [
    {
     "data": {
      "text/plain": [
       "12"
      ]
     },
     "execution_count": 9,
     "metadata": {},
     "output_type": "execute_result"
    }
   ],
   "source": [
    "## Return statements\n",
    "\n",
    "def multiply(a,b):\n",
    "    return a*b\n",
    "multiply(2,6)"
   ]
  },
  {
   "cell_type": "code",
   "execution_count": null,
   "metadata": {},
   "outputs": [
    {
     "data": {
      "text/plain": [
       "(12, 2)"
      ]
     },
     "execution_count": 10,
     "metadata": {},
     "output_type": "execute_result"
    }
   ],
   "source": [
    "## Return multiple parameters\n",
    "\n",
    "def multiply(a,b):\n",
    "    return a*b,a\n",
    "multiply(2,6)"
   ]
  },
  {
   "cell_type": "code",
   "execution_count": null,
   "metadata": {},
   "outputs": [],
   "source": []
  }
 ],
 "metadata": {
  "kernelspec": {
   "display_name": "Python 3",
   "language": "python",
   "name": "python3"
  },
  "language_info": {
   "codemirror_mode": {
    "name": "ipython",
    "version": 3
   },
   "file_extension": ".py",
   "mimetype": "text/x-python",
   "name": "python",
   "nbconvert_exporter": "python",
   "pygments_lexer": "ipython3",
   "version": "3.12.0"
  }
 },
 "nbformat": 4,
 "nbformat_minor": 2
}
