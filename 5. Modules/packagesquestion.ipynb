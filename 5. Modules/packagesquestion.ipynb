{
 "cells": [
  {
   "cell_type": "markdown",
   "metadata": {},
   "source": [
    "# Module 5: Modules and Packages Assignments\n",
    "## Lesson 5.1: Importing Modules\n",
    "### Assignment 1: Importing and Using Modules\n",
    "\n",
    "Import the `math` module and use it to calculate the square root of 25 and the sine of 90 degrees.\n",
    "\n",
    "### Assignment 2: Aliasing Modules\n",
    "\n",
    "Import the `datetime` module with an alias and use it to print the current date and time.\n",
    "\n",
    "### Assignment 3: Importing Specific Functions\n",
    "\n",
    "Import the `randint` function from the `random` module and use it to generate a random integer between 1 and 100.\n",
    "\n",
    "### Assignment 4: Importing Multiple Functions\n",
    "\n",
    "Import the `sqrt` and `pow` functions from the `math` module and use them to calculate the square root of 16 and 2 raised to the power of 3.\n",
    "\n",
    "### Assignment 5: Handling Import Errors\n",
    "\n",
    "Write code that attempts to import a non-existent module and gracefully handles the import error by printing an error message.\n",
    "\n",
    "## Lesson 5.2: Standard Library Overview\n",
    "### Assignment 6: Working with the `os` Module\n",
    "\n",
    "Use the `os` module to create a new directory, list the contents of the current directory, and remove the newly created directory.\n",
    "\n",
    "### Assignment 7: Working with the `sys` Module\n",
    "\n",
    "Use the `sys` module to print the Python version currently in use and the command-line arguments passed to the script.\n",
    "\n",
    "### Assignment 8: Working with the `math` Module\n",
    "\n",
    "Use the `math` module to calculate the greatest common divisor (GCD) of two numbers and the factorial of a number.\n",
    "\n",
    "### Assignment 9: Working with the `datetime` Module\n",
    "\n",
    "Use the `datetime` module to print the current date, calculate the date 100 days from today, and determine the day of the week for a given date.\n",
    "\n",
    "### Assignment 10: Working with the `random` Module\n",
    "\n",
    "Use the `random` module to generate a list of 5 random numbers between 1 and 50 and shuffle the elements of a list.\n",
    "\n",
    "## Lesson 5.3: Creating and Using Packages\n",
    "### Assignment 11: Creating a Simple Package\n",
    "\n",
    "Create a package named `mypackage` with two modules: `module1` and `module2`. `module1` should contain a function that adds two numbers, and `module2` should contain a function that multiplies two numbers. Write code to use these functions.\n",
    "\n",
    "### Assignment 12: Using `__init__.py`\n",
    "\n",
    "Modify the `mypackage` package to include an `__init__.py` file that imports the functions from `module1` and `module2`. Write code to use these functions.\n",
    "\n",
    "### Assignment 13: Importing from a Package\n",
    "\n",
    "Write code to import and use the functions from `mypackage` without explicitly importing `module1` and `module2`.\n",
    "\n",
    "### Assignment 14: Relative Imports\n",
    "\n",
    "Create a subpackage named `subpackage` within `mypackage` and move `module2` into `subpackage`. Modify the import statements in `__init__.py` to use relative imports. Write code to use the functions from both modules.\n",
    "\n",
    "### Assignment 15: Handling Package Import Errors\n",
    "\n",
    "Write code that attempts to import a non-existent function from `mypackage` and gracefully handles the import error by printing an error message."
   ]
  },
  {
   "cell_type": "code",
   "execution_count": 3,
   "metadata": {},
   "outputs": [
    {
     "name": "stdout",
     "output_type": "stream",
     "text": [
      "5.0\n",
      "0.8939966636005579\n"
     ]
    }
   ],
   "source": [
    "## 1\n",
    "\n",
    "import math\n",
    "\n",
    "print(math.sqrt(25))\n",
    "print(math.sin(90))"
   ]
  },
  {
   "cell_type": "code",
   "execution_count": 6,
   "id": "383ba7e1",
   "metadata": {},
   "outputs": [
    {
     "name": "stdout",
     "output_type": "stream",
     "text": [
      "2025-01-20 14:42:17.792535\n"
     ]
    }
   ],
   "source": [
    "## 2\n",
    "\n",
    "import datetime as dt\n",
    "\n",
    "now = dt.datetime.now()\n",
    "print(now)"
   ]
  },
  {
   "cell_type": "code",
   "execution_count": 7,
   "id": "d8c5b43c",
   "metadata": {},
   "outputs": [
    {
     "name": "stdout",
     "output_type": "stream",
     "text": [
      "95\n"
     ]
    }
   ],
   "source": [
    "## 3\n",
    "\n",
    "from random import randint\n",
    "\n",
    "print(randint(1,100))"
   ]
  },
  {
   "cell_type": "code",
   "execution_count": 8,
   "id": "f31a82b3",
   "metadata": {},
   "outputs": [
    {
     "name": "stdout",
     "output_type": "stream",
     "text": [
      "4.0\n",
      "8.0\n"
     ]
    }
   ],
   "source": [
    "from math import sqrt,pow\n",
    "\n",
    "print(sqrt(16))\n",
    "print(pow(2,3))"
   ]
  },
  {
   "cell_type": "code",
   "execution_count": 9,
   "id": "959f2931",
   "metadata": {},
   "outputs": [
    {
     "name": "stdout",
     "output_type": "stream",
     "text": [
      "Error: El módulo 'nonexistent_module' no se encuentra. Por favor, verifica el nombre o instala el módulo.\n"
     ]
    }
   ],
   "source": [
    "## 5\n",
    "try:\n",
    "    import nonexistent_module\n",
    "except ImportError:\n",
    "    print(\"Error: El módulo 'nonexistent_module' no se encuentra. Por favor, verifica el nombre o instala el módulo.\")"
   ]
  },
  {
   "cell_type": "code",
   "execution_count": 15,
   "id": "52164670",
   "metadata": {},
   "outputs": [
    {
     "name": "stdout",
     "output_type": "stream",
     "text": [
      "[]\n"
     ]
    }
   ],
   "source": [
    "## 6 \n",
    "import os\n",
    "\n",
    "os.mkdir('new_dir')\n",
    "print(os.listdir('new_dir'))\n",
    "os.removedirs('new_dir')\n"
   ]
  },
  {
   "cell_type": "code",
   "execution_count": 16,
   "id": "1ac207f9",
   "metadata": {},
   "outputs": [],
   "source": [
    "## 7"
   ]
  },
  {
   "cell_type": "code",
   "execution_count": null,
   "id": "f9336588",
   "metadata": {},
   "outputs": [],
   "source": []
  },
  {
   "cell_type": "code",
   "execution_count": 17,
   "id": "35e76fa1",
   "metadata": {},
   "outputs": [
    {
     "name": "stdout",
     "output_type": "stream",
     "text": [
      "Versión actual de Python: 3.12.0 | packaged by Anaconda, Inc. | (main, Oct  2 2023, 17:20:38) [MSC v.1916 64 bit (AMD64)]\n",
      "Argumentos de la línea de comandos:\n",
      "c:\\Users\\hardy\\OneDrive\\Documentos\\python_course\\python_ml_course\\venv\\Lib\\site-packages\\ipykernel_launcher.py\n",
      "--f=c:\\Users\\hardy\\AppData\\Roaming\\jupyter\\runtime\\kernel-v3bf4b21aba5c6b7f11fd52e6e6b3b4a6b104782c6.json\n"
     ]
    }
   ],
   "source": [
    "import sys\n",
    "\n",
    "# Imprimir la versión actual de Python\n",
    "print(f\"Versión actual de Python: {sys.version}\")\n",
    "\n",
    "# Imprimir los argumentos de la línea de comandos\n",
    "print(\"Argumentos de la línea de comandos:\")\n",
    "for arg in sys.argv:\n",
    "    print(arg)\n"
   ]
  },
  {
   "cell_type": "code",
   "execution_count": 20,
   "id": "65733094",
   "metadata": {},
   "outputs": [
    {
     "name": "stdout",
     "output_type": "stream",
     "text": [
      "8\n",
      "3628800\n"
     ]
    }
   ],
   "source": [
    "## 8\n",
    "from math import gcd,factorial\n",
    "\n",
    "print(gcd(24,64))\n",
    "print(factorial(10))"
   ]
  },
  {
   "cell_type": "code",
   "execution_count": 28,
   "id": "06ceba0d",
   "metadata": {},
   "outputs": [
    {
     "name": "stdout",
     "output_type": "stream",
     "text": [
      "2025-01-20 15:25:02.312479\n",
      "2025-04-30 15:25:02.313480\n",
      "0\n"
     ]
    }
   ],
   "source": [
    "# 9\n",
    "from datetime import datetime as dt, timedelta as td\n",
    "\n",
    "now = dt.today()\n",
    "print(now)\n",
    "\n",
    "day_100 = dt.now() + td(days=100)\n",
    "print(day_100)\n",
    "\n",
    "print(dt.today().weekday())"
   ]
  },
  {
   "cell_type": "code",
   "execution_count": 36,
   "id": "db85c55f",
   "metadata": {},
   "outputs": [
    {
     "name": "stdout",
     "output_type": "stream",
     "text": [
      "[32, 14, 15, 47, 14]\n"
     ]
    }
   ],
   "source": [
    "# 10\n",
    "import random\n",
    "lst = []\n",
    "lst = [random.randint(1,50) for _ in range(5)]\n",
    "random.shuffle(lst)\n",
    "print(lst)\n"
   ]
  },
  {
   "cell_type": "code",
   "execution_count": 38,
   "id": "23fa7b57",
   "metadata": {},
   "outputs": [
    {
     "data": {
      "text/plain": [
       "2"
      ]
     },
     "execution_count": 38,
     "metadata": {},
     "output_type": "execute_result"
    }
   ],
   "source": [
    "## 11\n",
    "from mypackage import module1,module2\n",
    "module1.addition(1,2) \n",
    "module2.multiply(1,2) "
   ]
  },
  {
   "cell_type": "code",
   "execution_count": 42,
   "id": "f281f6c2",
   "metadata": {},
   "outputs": [
    {
     "ename": "ImportError",
     "evalue": "cannot import name 'addition' from 'mypackage' (unknown location)",
     "output_type": "error",
     "traceback": [
      "\u001b[1;31m---------------------------------------------------------------------------\u001b[0m",
      "\u001b[1;31mImportError\u001b[0m                               Traceback (most recent call last)",
      "Cell \u001b[1;32mIn[42], line 2\u001b[0m\n\u001b[0;32m      1\u001b[0m \u001b[38;5;66;03m#12\u001b[39;00m\n\u001b[1;32m----> 2\u001b[0m \u001b[38;5;28;01mfrom\u001b[39;00m \u001b[38;5;21;01mmypackage\u001b[39;00m \u001b[38;5;28;01mimport\u001b[39;00m addition\n\u001b[0;32m      4\u001b[0m \u001b[38;5;28mprint\u001b[39m(addition(\u001b[38;5;241m1\u001b[39m,\u001b[38;5;241m6\u001b[39m))\n\u001b[0;32m      5\u001b[0m \u001b[38;5;28mprint\u001b[39m(multiply(\u001b[38;5;241m7\u001b[39m,\u001b[38;5;241m5\u001b[39m))\n",
      "\u001b[1;31mImportError\u001b[0m: cannot import name 'addition' from 'mypackage' (unknown location)"
     ]
    }
   ],
   "source": [
    "#12\n",
    "from mypackage import addition\n",
    "\n",
    "print(addition(1,6))\n",
    "print(multiply(7,5))\n"
   ]
  },
  {
   "cell_type": "code",
   "execution_count": null,
   "id": "8a0b2cd3",
   "metadata": {},
   "outputs": [],
   "source": []
  },
  {
   "cell_type": "code",
   "execution_count": null,
   "id": "97f3635c",
   "metadata": {},
   "outputs": [],
   "source": []
  }
 ],
 "metadata": {
  "kernelspec": {
   "display_name": "venv",
   "language": "python",
   "name": "python3"
  },
  "language_info": {
   "codemirror_mode": {
    "name": "ipython",
    "version": 3
   },
   "file_extension": ".py",
   "mimetype": "text/x-python",
   "name": "python",
   "nbconvert_exporter": "python",
   "pygments_lexer": "ipython3",
   "version": "3.12.0"
  }
 },
 "nbformat": 4,
 "nbformat_minor": 5
}
