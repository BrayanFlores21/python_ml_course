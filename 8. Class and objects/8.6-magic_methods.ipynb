{
 "cells": [
  {
   "cell_type": "markdown",
   "metadata": {},
   "source": [
    "### Magic Methods\n",
    "\n",
    "Magic methods in python, also known as dunder methods (double underscore methods), are special methods that start and end with double underscore. These methods enable you to define the behavior of objects for built-in functions, such as arithmetic operations, comparisons and more."
   ]
  },
  {
   "cell_type": "markdown",
   "metadata": {},
   "source": [
    "#### Magic methods\n",
    "\n",
    "Magic methods are predefined methods in Python that you can override to change the behavior of your objects. Some common magic methods include:"
   ]
  },
  {
   "cell_type": "code",
   "execution_count": 1,
   "metadata": {},
   "outputs": [
    {
     "data": {
      "text/plain": [
       "'\\n__init__: Initialize a new instance of a class\\n\\n__str__: Return a string representation of an object\\n\\n__len__: Return the length of an object\\n\\n__getitem__: Return an item from an object using indexing\\n\\n__setitem__: Set an item in an object using indexing\\n\\n__repr__: Return an object\\n\\n'"
      ]
     },
     "execution_count": 1,
     "metadata": {},
     "output_type": "execute_result"
    }
   ],
   "source": [
    "'''\n",
    "__init__: Initialize a new instance of a class\n",
    "\n",
    "__str__: Return a string representation of an object\n",
    "\n",
    "__len__: Return the length of an object\n",
    "\n",
    "__getitem__: Return an item from an object using indexing\n",
    "\n",
    "__setitem__: Set an item in an object using indexing\n",
    "\n",
    "__repr__: Return an object\n",
    "\n",
    "'''"
   ]
  },
  {
   "cell_type": "code",
   "execution_count": 2,
   "metadata": {},
   "outputs": [
    {
     "name": "stdout",
     "output_type": "stream",
     "text": [
      "<__main__.Person object at 0x000001F0F313AE40>\n"
     ]
    }
   ],
   "source": [
    "class Person:\n",
    "    def __init__(self, name, age):\n",
    "        self.name = name\n",
    "        self.age = age\n",
    "\n",
    "person = Person('John Doe', 30)\n",
    "\n",
    "print(person)"
   ]
  },
  {
   "cell_type": "code",
   "execution_count": 6,
   "metadata": {},
   "outputs": [
    {
     "name": "stdout",
     "output_type": "stream",
     "text": [
      "John Doe, 30 years old\n",
      "Person(name=John Doe,age=30)\n"
     ]
    }
   ],
   "source": [
    "class Person:\n",
    "    def __init__(self, name, age):\n",
    "        self.name = name\n",
    "        self.age = age\n",
    "    \n",
    "    def __str__(self):\n",
    "        return f\"{self.name}, {self.age} years old\"\n",
    "    \n",
    "    def __repr__(self):\n",
    "        return f\"Person(name={self.name},age={self.age})\"\n",
    " \n",
    "person = Person('John Doe', 30)\n",
    "\n",
    "print(person)\n",
    "print(repr(person))\n"
   ]
  },
  {
   "cell_type": "code",
   "execution_count": null,
   "metadata": {},
   "outputs": [],
   "source": []
  }
 ],
 "metadata": {
  "kernelspec": {
   "display_name": "venv",
   "language": "python",
   "name": "python3"
  },
  "language_info": {
   "codemirror_mode": {
    "name": "ipython",
    "version": 3
   },
   "file_extension": ".py",
   "mimetype": "text/x-python",
   "name": "python",
   "nbconvert_exporter": "python",
   "pygments_lexer": "ipython3",
   "version": "3.12.0"
  }
 },
 "nbformat": 4,
 "nbformat_minor": 2
}
