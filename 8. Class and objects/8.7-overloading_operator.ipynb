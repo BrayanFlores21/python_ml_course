{
 "cells": [
  {
   "cell_type": "markdown",
   "metadata": {},
   "source": [
    "### Operator Overloading\n",
    "\n",
    "Operator overloading allows you to define the behavior of operators (+,-,*,etc.) for custom objects. You achieve this by overriding specific magic methods in your class."
   ]
  },
  {
   "cell_type": "code",
   "execution_count": null,
   "metadata": {},
   "outputs": [],
   "source": [
    "'''\n",
    "    __add__(self,other): Adds two objects using the + operator.\n",
    "    __sub__(self,other): Substracts two objects using the - operator.\n",
    "    __mul__(self,other): Multiplies two objects using the * operator.\n",
    "    __truediv__(self,other): Divides two objects using the / operator.\n",
    "    __eq__(self,other): Checks if two objects are equal using the == operator\n",
    "    __lt__(self,another): Checks if one object is less than another using the < operator.\n",
    "'''"
   ]
  },
  {
   "cell_type": "code",
   "execution_count": 1,
   "metadata": {},
   "outputs": [
    {
     "data": {
      "text/plain": [
       "2"
      ]
     },
     "execution_count": 1,
     "metadata": {},
     "output_type": "execute_result"
    }
   ],
   "source": [
    "1+1"
   ]
  },
  {
   "cell_type": "code",
   "execution_count": 3,
   "metadata": {},
   "outputs": [
    {
     "name": "stdout",
     "output_type": "stream",
     "text": [
      "Vector(4,6)\n",
      "Vector(-2,-2)\n",
      "Vector(3,8)\n",
      "False\n"
     ]
    }
   ],
   "source": [
    "### Mathematical operations for vectors\n",
    "class Vector:\n",
    "    def __init__(self,x,y):\n",
    "        self.x = x\n",
    "        self.y = y\n",
    "\n",
    "    def __add__(self,other):\n",
    "        return Vector(self.x + other.x,self.y + other.y)\n",
    "    \n",
    "    def __sub__(self,other):\n",
    "        return Vector(self.x - other.x,self.y - other.y)\n",
    "    \n",
    "    def __mul__(self,other):\n",
    "        return Vector(self.x * other.x,self.y * other.y)\n",
    "    \n",
    "    def __eq__(self,other):\n",
    "        return self.x == other.x and self.y and other.y\n",
    "    \n",
    "    def __repr__(self):\n",
    "        return f\"Vector({self.x},{self.y})\"\n",
    "    \n",
    "### Create objects\n",
    "\n",
    "v1=Vector(1,2)\n",
    "v2=Vector(3,4)\n",
    "\n",
    "print(v1+v2)\n",
    "print(v1-v2)\n",
    "print(v1*v2)\n",
    "print(v1==v2)"
   ]
  },
  {
   "cell_type": "code",
   "execution_count": 4,
   "metadata": {},
   "outputs": [
    {
     "name": "stdout",
     "output_type": "stream",
     "text": [
      "3 + 15i\n"
     ]
    },
    {
     "ename": "AttributeError",
     "evalue": "'ComplexNumber' object has no attribute 'self'",
     "output_type": "error",
     "traceback": [
      "\u001b[1;31m---------------------------------------------------------------------------\u001b[0m",
      "\u001b[1;31mAttributeError\u001b[0m                            Traceback (most recent call last)",
      "Cell \u001b[1;32mIn[4], line 35\u001b[0m\n\u001b[0;32m     32\u001b[0m c2\u001b[38;5;241m=\u001b[39mComplexNumber(\u001b[38;5;241m2\u001b[39m,\u001b[38;5;241m10\u001b[39m)\n\u001b[0;32m     34\u001b[0m \u001b[38;5;28mprint\u001b[39m(c1\u001b[38;5;241m+\u001b[39mc2)\n\u001b[1;32m---> 35\u001b[0m \u001b[38;5;28mprint\u001b[39m(\u001b[43mc1\u001b[49m\u001b[38;5;241;43m-\u001b[39;49m\u001b[43mc2\u001b[49m)\n\u001b[0;32m     36\u001b[0m \u001b[38;5;28mprint\u001b[39m(c1\u001b[38;5;241m*\u001b[39mc2)\n\u001b[0;32m     37\u001b[0m \u001b[38;5;28mprint\u001b[39m(c1\u001b[38;5;241m/\u001b[39mc2)\n",
      "Cell \u001b[1;32mIn[4], line 12\u001b[0m, in \u001b[0;36mComplexNumber.__sub__\u001b[1;34m(self, other)\u001b[0m\n\u001b[0;32m     11\u001b[0m \u001b[38;5;28;01mdef\u001b[39;00m \u001b[38;5;21m__sub__\u001b[39m(\u001b[38;5;28mself\u001b[39m,other):\n\u001b[1;32m---> 12\u001b[0m     \u001b[38;5;28;01mreturn\u001b[39;00m ComplexNumber(\u001b[38;5;28mself\u001b[39m\u001b[38;5;241m.\u001b[39mreal \u001b[38;5;241m-\u001b[39m \u001b[43mother\u001b[49m\u001b[38;5;241;43m.\u001b[39;49m\u001b[43mself\u001b[49m,\u001b[38;5;28mself\u001b[39m\u001b[38;5;241m.\u001b[39mimag \u001b[38;5;241m-\u001b[39m other\u001b[38;5;241m.\u001b[39mimag)\n",
      "\u001b[1;31mAttributeError\u001b[0m: 'ComplexNumber' object has no attribute 'self'"
     ]
    }
   ],
   "source": [
    "### Overloading Operators for Complex Numbers\n",
    "\n",
    "class ComplexNumber:\n",
    "    def __init__(self,real,imag):\n",
    "        self.real=real\n",
    "        self.imag=imag\n",
    "\n",
    "    def __add__(self,other):\n",
    "        return ComplexNumber(self.real + other.real,self.imag + other.imag)\n",
    "    \n",
    "    def __sub__(self,other):\n",
    "        return ComplexNumber(self.real - other.real,self.imag - other.imag)\n",
    "    \n",
    "    def __mul__(self,other):\n",
    "        return ComplexNumber(self.real * other.real - self.real * other.imag,self.real * other.imag + self.imag * other.real)\n",
    "    \n",
    "    def __truediv__(self,other):\n",
    "        denominator=other.real**2 + other.imag**2\n",
    "        real_part=(self.real * other.real + self.imag * other.imag) / denominator\n",
    "        imag_part=(self.imag * other.real - self.real * other.imag) / denominator\n",
    "        return ComplexNumber(real_part,imag_part)\n",
    "    \n",
    "    def __eq__(self,other):\n",
    "        return self.real == other.real and self.imag == other.imag\n",
    "    \n",
    "    def __repr__(self):\n",
    "        return f\"{self.real} + {self.imag}i\"\n",
    "    \n",
    "    ## create objects\n",
    "\n",
    "c1=ComplexNumber(1,5)\n",
    "c2=ComplexNumber(2,10)\n",
    "\n",
    "print(c1+c2)\n",
    "print(c1-c2)\n",
    "print(c1*c2)\n",
    "print(c1/c2)\n",
    "print(c1==c2)\n"
   ]
  },
  {
   "cell_type": "code",
   "execution_count": null,
   "metadata": {},
   "outputs": [],
   "source": []
  }
 ],
 "metadata": {
  "kernelspec": {
   "display_name": "venv",
   "language": "python",
   "name": "python3"
  },
  "language_info": {
   "codemirror_mode": {
    "name": "ipython",
    "version": 3
   },
   "file_extension": ".py",
   "mimetype": "text/x-python",
   "name": "python",
   "nbconvert_exporter": "python",
   "pygments_lexer": "ipython3",
   "version": "3.12.0"
  }
 },
 "nbformat": 4,
 "nbformat_minor": 2
}
