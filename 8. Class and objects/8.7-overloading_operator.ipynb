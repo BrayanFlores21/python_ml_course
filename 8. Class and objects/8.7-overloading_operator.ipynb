{
 "cells": [
  {
   "cell_type": "markdown",
   "metadata": {},
   "source": [
    "### Operator Overloading\n",
    "\n",
    "Operator overloading allows you to define the behavior of operators (+,-,*,etc.) for custom objects. You achieve this by overriding specific magic methods in your class."
   ]
  },
  {
   "cell_type": "code",
   "execution_count": null,
   "metadata": {},
   "outputs": [],
   "source": [
    "'''\n",
    "    __add__(self,other): Adds two objects using the + operator.\n",
    "    __sub__(self,other): Substracts two objects using the - operator.\n",
    "    __mul__(self,other): Multiplies two objects using the * operator.\n",
    "    __truediv__(self,other): Divides two objects using the / operator.\n",
    "    __eq__(self,other): Checks if two objects are equal using the == operator\n",
    "    __lt__(self,another): Checks if one object is less than another using the < operator.\n",
    "'''"
   ]
  },
  {
   "cell_type": "code",
   "execution_count": 1,
   "metadata": {},
   "outputs": [
    {
     "data": {
      "text/plain": [
       "2"
      ]
     },
     "execution_count": 1,
     "metadata": {},
     "output_type": "execute_result"
    }
   ],
   "source": [
    "1+1"
   ]
  },
  {
   "cell_type": "code",
   "execution_count": 3,
   "metadata": {},
   "outputs": [
    {
     "name": "stdout",
     "output_type": "stream",
     "text": [
      "Vector(4,6)\n",
      "Vector(-2,-2)\n",
      "Vector(3,8)\n",
      "False\n"
     ]
    }
   ],
   "source": [
    "### Mathematical operations for vectors\n",
    "class Vector:\n",
    "    def __init__(self,x,y):\n",
    "        self.x = x\n",
    "        self.y = y\n",
    "\n",
    "    def __add__(self,other):\n",
    "        return Vector(self.x + other.x,self.y + other.y)\n",
    "    \n",
    "    def __sub__(self,other):\n",
    "        return Vector(self.x - other.x,self.y - other.y)\n",
    "    \n",
    "    def __mul__(self,other):\n",
    "        return Vector(self.x * other.x,self.y * other.y)\n",
    "    \n",
    "    def __eq__(self,other):\n",
    "        return self.x == other.x and self.y and other.y\n",
    "    \n",
    "    def __repr__(self):\n",
    "        return f\"Vector({self.x},{self.y})\"\n",
    "    \n",
    "### Create objects\n",
    "\n",
    "v1=Vector(1,2)\n",
    "v2=Vector(3,4)\n",
    "\n",
    "print(v1+v2)\n",
    "print(v1-v2)\n",
    "print(v1*v2)\n",
    "print(v1==v2)"
   ]
  },
  {
   "cell_type": "code",
   "execution_count": 5,
   "metadata": {},
   "outputs": [
    {
     "name": "stdout",
     "output_type": "stream",
     "text": [
      "3 + 15i\n",
      "-1 + -5i\n",
      "-8 + 20i\n",
      "0.5 + 0.0i\n",
      "False\n"
     ]
    }
   ],
   "source": [
    "### Overloading Operators for Complex Numbers\n",
    "\n",
    "class ComplexNumber:\n",
    "    def __init__(self,real,imag):\n",
    "        self.real=real\n",
    "        self.imag=imag\n",
    "\n",
    "    def __add__(self,other):\n",
    "        return ComplexNumber(self.real + other.real,self.imag + other.imag)\n",
    "    \n",
    "    def __sub__(self,other):\n",
    "        return ComplexNumber(self.real - other.real,self.imag - other.imag)\n",
    "    \n",
    "    def __mul__(self,other):\n",
    "        return ComplexNumber(self.real * other.real - self.real * other.imag,self.real * other.imag + self.imag * other.real)\n",
    "    \n",
    "    def __truediv__(self,other):\n",
    "        denominator=other.real**2 + other.imag**2\n",
    "        real_part=(self.real * other.real + self.imag * other.imag) / denominator\n",
    "        imag_part=(self.imag * other.real - self.real * other.imag) / denominator\n",
    "        return ComplexNumber(real_part,imag_part)\n",
    "    \n",
    "    def __eq__(self,other):\n",
    "        return self.real == other.real and self.imag == other.imag\n",
    "    \n",
    "    def __repr__(self):\n",
    "        return f\"{self.real} + {self.imag}i\"\n",
    "    \n",
    "    ## create objects\n",
    "\n",
    "c1=ComplexNumber(1,5)\n",
    "c2=ComplexNumber(2,10)\n",
    "\n",
    "print(c1+c2)\n",
    "print(c1-c2)\n",
    "print(c1*c2)\n",
    "print(c1/c2)\n",
    "print(c1==c2)\n"
   ]
  },
  {
   "cell_type": "code",
   "execution_count": null,
   "metadata": {},
   "outputs": [],
   "source": []
  }
 ],
 "metadata": {
  "kernelspec": {
   "display_name": "venv",
   "language": "python",
   "name": "python3"
  },
  "language_info": {
   "codemirror_mode": {
    "name": "ipython",
    "version": 3
   },
   "file_extension": ".py",
   "mimetype": "text/x-python",
   "name": "python",
   "nbconvert_exporter": "python",
   "pygments_lexer": "ipython3",
   "version": "3.12.0"
  }
 },
 "nbformat": 4,
 "nbformat_minor": 2
}
