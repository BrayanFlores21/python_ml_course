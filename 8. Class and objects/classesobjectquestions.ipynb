{
 "cells": [
  {
   "cell_type": "markdown",
   "metadata": {},
   "source": [
    "# Module: Classes and Objects Assignments\n",
    "## Lesson: Creating and Working with Classes and Objects\n",
    "### Assignment 1: Basic Class and Object Creation\n",
    "\n",
    "Create a class named `Car` with attributes `make`, `model`, and `year`. Create an object of the class and print its attributes.\n",
    "\n",
    "### Assignment 2: Methods in Class\n",
    "\n",
    "Add a method named `start_engine` to the `Car` class that prints a message when the engine starts. Create an object of the class and call the method.\n",
    "\n",
    "### Assignment 3: Class with Constructor\n",
    "\n",
    "Create a class named `Student` with attributes `name` and `age`. Use a constructor to initialize these attributes. Create an object of the class and print its attributes.\n",
    "\n",
    "### Assignment 4: Class with Private Attributes\n",
    "\n",
    "Create a class named `BankAccount` with private attributes `account_number` and `balance`. Add methods to deposit and withdraw money, and to check the balance. Create an object of the class and perform some operations.\n",
    "\n",
    "### Assignment 5: Class Inheritance\n",
    "\n",
    "Create a base class named `Person` with attributes `name` and `age`. Create a derived class named `Employee` that inherits from `Person` and adds an attribute `employee_id`. Create an object of the derived class and print its attributes.\n",
    "\n",
    "### Assignment 6: Method Overriding\n",
    "\n",
    "In the `Employee` class, override the `__str__` method to return a string representation of the object. Create an object of the class and print it.\n",
    "\n",
    "### Assignment 7: Class Composition\n",
    "\n",
    "Create a class named `Address` with attributes `street`, `city`, and `zipcode`. Create a class named `Person` that has an `Address` object as an attribute. Create an object of the `Person` class and print its address.\n",
    "\n",
    "### Assignment 8: Class with Class Variables\n",
    "\n",
    "Create a class named `Counter` with a class variable `count`. Each time an object is created, increment the count. Add a method to get the current count. Create multiple objects and print the count.\n",
    "\n",
    "### Assignment 9: Static Methods\n",
    "\n",
    "Create a class named `MathOperations` with a static method to calculate the square root of a number. Call the static method without creating an object.\n",
    "\n",
    "### Assignment 10: Class with Properties\n",
    "\n",
    "Create a class named `Rectangle` with private attributes `length` and `width`. Use properties to get and set these attributes. Create an object of the class and test the properties.\n",
    "\n",
    "### Assignment 11: Abstract Base Class\n",
    "\n",
    "Create an abstract base class named `Shape` with an abstract method `area`. Create derived classes `Circle` and `Square` that implement the `area` method. Create objects of the derived classes and call the `area` method.\n",
    "\n",
    "### Assignment 12: Operator Overloading\n",
    "\n",
    "Create a class named `Vector` with attributes `x` and `y`. Overload the `+` operator to add two `Vector` objects. Create objects of the class and test the operator overloading.\n",
    "\n",
    "### Assignment 13: Class with Custom Exception\n",
    "\n",
    "Create a custom exception named `InsufficientBalanceError`. In the `BankAccount` class, raise this exception when a withdrawal amount is greater than the balance. Handle the exception and print an appropriate message.\n",
    "\n",
    "### Assignment 14: Class with Context Manager\n",
    "\n",
    "Create a class named `FileManager` that implements the context manager protocol to open and close a file. Use this class to read the contents of a file.\n",
    "\n",
    "### Assignment 15: Chaining Methods\n",
    "\n",
    "Create a class named `Calculator` with methods to add, subtract, multiply, and divide. Each method should return the object itself to allow method chaining. Create an object and chain multiple method calls."
   ]
  },
  {
   "cell_type": "code",
   "execution_count": 2,
   "metadata": {},
   "outputs": [
    {
     "name": "stdout",
     "output_type": "stream",
     "text": [
      "Make: a\n",
      "Model: Y\n",
      "Year: 2011\n"
     ]
    }
   ],
   "source": [
    "# 1\n",
    "\n",
    "class Car:\n",
    "    def __init__(self,make,model,year):\n",
    "        self.make = make\n",
    "        self.model = model\n",
    "        self.year = year\n",
    "\n",
    "audi = Car('a','Y',2011)\n",
    "\n",
    "print(f'Make: {audi.make}')\n",
    "print(f'Model: {audi.model}')\n",
    "print(f'Year: {audi.year}')"
   ]
  },
  {
   "cell_type": "code",
   "execution_count": 8,
   "id": "3a25e1e4",
   "metadata": {},
   "outputs": [
    {
     "name": "stdout",
     "output_type": "stream",
     "text": [
      "<__main__.Car object at 0x000002083BEF6A50>\n",
      "Engine started\n"
     ]
    }
   ],
   "source": [
    "### 2\n",
    "class Car:\n",
    "    def __init__(self,make,model,year):\n",
    "        self.make = make\n",
    "        self.model = model\n",
    "        self.year = year\n",
    "    def start_engine(self):\n",
    "        print('Engine started')\n",
    "\n",
    "bmw=Car('a','Y',2011)\n",
    "print(bmw)\n",
    "bmw.start_engine()"
   ]
  },
  {
   "cell_type": "code",
   "execution_count": 9,
   "id": "b35720d7",
   "metadata": {},
   "outputs": [
    {
     "name": "stdout",
     "output_type": "stream",
     "text": [
      "Brayan\n",
      "24\n"
     ]
    }
   ],
   "source": [
    "### 3\n",
    "\n",
    "class Student:\n",
    "    def __init__(self,name,age):\n",
    "        self.name = name\n",
    "        self.age = age\n",
    "brayan=Student('Brayan',24)\n",
    "print(brayan.name)\n",
    "print(brayan.age)"
   ]
  },
  {
   "cell_type": "code",
   "execution_count": 4,
   "id": "4e7cfbec",
   "metadata": {},
   "outputs": [
    {
     "name": "stdout",
     "output_type": "stream",
     "text": [
      "1000 was deposited. New Balance: 1100\n",
      "200 was withdrawn. New balance is 900\n",
      "Getting Balance: 900\n"
     ]
    }
   ],
   "source": [
    "# 4\n",
    "\n",
    "class BankAccount:\n",
    "    def __init__(self,account_number,balance=0):\n",
    "        self.__account_number = account_number\n",
    "        self.__balance = balance\n",
    "    \n",
    "    def deposit(self,amount):\n",
    "        self.__balance += amount\n",
    "        print(f'{amount} was deposited. New Balance: {self.__balance}')\n",
    "    def withdraw(self,amount):\n",
    "        if amount > self.__balance:\n",
    "            print(f\"Your balance isn't enough to withdraw {amount}.\")\n",
    "            return\n",
    "        self.__balance -= amount\n",
    "        print(f\"{amount} was withdrawn. New balance is {self.__balance}\")\n",
    "    \n",
    "    def get_balance(self):\n",
    "        print(f\"Getting Balance: {self.__balance}\")\n",
    "\n",
    "bank_account = BankAccount(2012514,100)\n",
    "\n",
    "bank_account.deposit(1000)\n",
    "bank_account.withdraw(200)\n",
    "bank_account.get_balance()\n"
   ]
  },
  {
   "cell_type": "code",
   "execution_count": 4,
   "id": "c97b5ea3",
   "metadata": {},
   "outputs": [
    {
     "name": "stdout",
     "output_type": "stream",
     "text": [
      "Name: E123\n",
      "Employee: John Doe, Age: 30, Employee ID: E123\n"
     ]
    }
   ],
   "source": [
    "# 5\n",
    "\n",
    "class Person:\n",
    "    def __init__(self, name, age):\n",
    "        self.name = name\n",
    "        self.age = age\n",
    "\n",
    "class Employee(Person):\n",
    "    def __init__(self, name, age, employee_id):\n",
    "        super().__init__(name, age)\n",
    "        self.employee_id = employee_id\n",
    "    def __str__(self):\n",
    "        return f'Employee: {self.name}, Age: {self.age}, Employee ID: {self.employee_id}'\n",
    "\n",
    "employee = Employee('John Doe', 30, 'E123')\n",
    "\n",
    "print(f'Name: {employee.employee_id}')\n",
    "\n",
    "print(employee.__str__())"
   ]
  },
  {
   "cell_type": "code",
   "execution_count": 5,
   "id": "3b90af42",
   "metadata": {},
   "outputs": [
    {
     "name": "stdout",
     "output_type": "stream",
     "text": [
      "Name: E123\n",
      "Employee: John Doe, Age: 30, Employee ID: E123\n"
     ]
    }
   ],
   "source": [
    "## 6\n",
    "# 5\n",
    "\n",
    "class Person:\n",
    "    def __init__(self, name, age):\n",
    "        self.name = name\n",
    "        self.age = age\n",
    "\n",
    "class Employee(Person):\n",
    "    def __init__(self, name, age, employee_id):\n",
    "        super().__init__(name, age)\n",
    "        self.employee_id = employee_id\n",
    "    def __str__(self):\n",
    "        return f'Employee: {self.name}, Age: {self.age}, Employee ID: {self.employee_id}'\n",
    "\n",
    "employee = Employee('John Doe', 30, 'E123')\n",
    "\n",
    "print(f'Name: {employee.employee_id}')\n",
    "\n",
    "print(employee.__str__())"
   ]
  },
  {
   "cell_type": "code",
   "execution_count": 6,
   "id": "9ab3ae91",
   "metadata": {},
   "outputs": [
    {
     "name": "stdout",
     "output_type": "stream",
     "text": [
      "Name: John Doe\n",
      "Address: 123 Main St, Anytown, 12345\n"
     ]
    }
   ],
   "source": [
    "## 7\n",
    "\n",
    "class Address:\n",
    "    def __init__(self, street, city, zipcode):\n",
    "        self.street = street\n",
    "        self.city = city\n",
    "        self.zipcode = zipcode\n",
    "\n",
    "class Person:\n",
    "    def __init__(self, name, age, address):\n",
    "        self.name = name\n",
    "        self.age = age\n",
    "        self.address = address\n",
    "    \n",
    "address = Address('123 Main St', 'Anytown', '12345')\n",
    "\n",
    "person = Person('John Doe', 30, address)\n",
    "\n",
    "print(f'Name: {person.name}')\n",
    "\n",
    "print(f'Address: {person.address.street}, {person.address.city}, {person.address.zipcode}')"
   ]
  },
  {
   "cell_type": "code",
   "execution_count": 7,
   "id": "ee50e87c",
   "metadata": {},
   "outputs": [
    {
     "name": "stdout",
     "output_type": "stream",
     "text": [
      "Counter 1 count: 2\n"
     ]
    }
   ],
   "source": [
    "## 8\n",
    "\n",
    "class Counter:\n",
    "    count = 0\n",
    "    def __init__(self):\n",
    "        Counter.count += 1\n",
    "\n",
    "    def get_count(self):\n",
    "        return Counter.count\n",
    "    \n",
    "counter1 = Counter()\n",
    "\n",
    "counter2 = Counter()\n",
    "\n",
    "print(f'Counter 1 count: {counter1.get_count()}')"
   ]
  },
  {
   "cell_type": "code",
   "execution_count": 3,
   "id": "479f110d",
   "metadata": {},
   "outputs": [
    {
     "data": {
      "text/plain": [
       "2.0"
      ]
     },
     "execution_count": 3,
     "metadata": {},
     "output_type": "execute_result"
    }
   ],
   "source": [
    "## Math operations\n",
    "import math\n",
    "\n",
    "class MathOperations:\n",
    "    @staticmethod\n",
    "    def square_root(number):\n",
    "        return math.sqrt(number)\n",
    "\n",
    "MathOperations.square_root(4)"
   ]
  },
  {
   "cell_type": "code",
   "execution_count": 4,
   "id": "36c1bd89",
   "metadata": {},
   "outputs": [
    {
     "name": "stdout",
     "output_type": "stream",
     "text": [
      "50\n",
      "16\n"
     ]
    }
   ],
   "source": [
    "## 11\n",
    "\n",
    "from abc import ABC,abstractmethod\n",
    "\n",
    "class Shape(ABC):\n",
    "    @abstractmethod\n",
    "    def area(self):\n",
    "        pass\n",
    "\n",
    "class Rectangle(Shape):\n",
    "    def __init__(self,width,height):\n",
    "        self.width = width\n",
    "        self.height = height\n",
    "\n",
    "    def area(self):\n",
    "        return self.width * self.height\n",
    "    \n",
    "class Square(Shape):\n",
    "    def __init__(self,width):\n",
    "        self.width = width\n",
    "\n",
    "    def area(self):\n",
    "        return self.width ** 2\n",
    "    \n",
    "rect = Rectangle(10,5)\n",
    "sq = Square(4)\n",
    "\n",
    "print(rect.area())\n",
    "print(sq.area())"
   ]
  },
  {
   "cell_type": "code",
   "execution_count": 7,
   "id": "2db9eab0",
   "metadata": {},
   "outputs": [
    {
     "name": "stdout",
     "output_type": "stream",
     "text": [
      "10\n"
     ]
    }
   ],
   "source": [
    "## 10\n",
    "\n",
    "class Rectangle:\n",
    "    def __init__(self,width,height):\n",
    "        self.__width = width\n",
    "        self.__height = height\n",
    "\n",
    "    def get_width(self):\n",
    "        return self.__width\n",
    "    \n",
    "    def get_height(self):\n",
    "        return self.__height\n",
    "    \n",
    "rect = Rectangle(10,6)\n",
    "\n",
    "print(rect.get_width())\n",
    "        "
   ]
  },
  {
   "cell_type": "code",
   "execution_count": 9,
   "id": "c04b0a0e",
   "metadata": {},
   "outputs": [
    {
     "name": "stdout",
     "output_type": "stream",
     "text": [
      "Vector(11,13)\n"
     ]
    }
   ],
   "source": [
    "## 12\n",
    "\n",
    "class Vector:\n",
    "\n",
    "    def __init__(self,x,y):\n",
    "        self.x=x\n",
    "        self.y=y\n",
    "    \n",
    "    def __add__(self,other):\n",
    "        return Vector(self.x + other.x,self.y + other.y)\n",
    "\n",
    "    def __repr__(self):\n",
    "        return f\"Vector({self.x},{self.y})\"\n",
    "\n",
    "v1=Vector(5,4)\n",
    "v2=Vector(6,9)\n",
    "\n",
    "print(v1+v2)"
   ]
  },
  {
   "cell_type": "code",
   "execution_count": 12,
   "id": "d4d321a0",
   "metadata": {},
   "outputs": [
    {
     "name": "stdout",
     "output_type": "stream",
     "text": [
      "New balance 100\n"
     ]
    }
   ],
   "source": [
    "## 13\n",
    "\n",
    "class Error(Exception):\n",
    "    pass\n",
    "\n",
    "class InsufficientBalanceError(Error):\n",
    "    pass\n",
    "\n",
    "class BankAccount:\n",
    "    def __init__(self,balance=0):\n",
    "        self.balance = balance\n",
    "    \n",
    "    def withdraw(self,amount):\n",
    "        if amount > self.balance:\n",
    "            raise InsufficientBalanceError\n",
    "        self.balance = self.balance - amount\n",
    "        print(f'New balance {self.balance}')\n",
    "\n",
    "try:\n",
    "    acc=BankAccount(500)\n",
    "    acc.withdraw(400)\n",
    "except InsufficientBalanceError:\n",
    "    print('Amount is greater than balance. Try again.')\n"
   ]
  },
  {
   "cell_type": "code",
   "execution_count": null,
   "id": "3f2ded17",
   "metadata": {},
   "outputs": [],
   "source": []
  }
 ],
 "metadata": {
  "kernelspec": {
   "display_name": "venv",
   "language": "python",
   "name": "python3"
  },
  "language_info": {
   "codemirror_mode": {
    "name": "ipython",
    "version": 3
   },
   "file_extension": ".py",
   "mimetype": "text/x-python",
   "name": "python",
   "nbconvert_exporter": "python",
   "pygments_lexer": "ipython3",
   "version": "3.12.0"
  }
 },
 "nbformat": 4,
 "nbformat_minor": 5
}
