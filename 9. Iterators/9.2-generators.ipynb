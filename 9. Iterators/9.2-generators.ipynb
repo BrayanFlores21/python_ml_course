{
 "cells": [
  {
   "cell_type": "markdown",
   "metadata": {},
   "source": [
    "### Generators\n",
    "\n",
    "Generators are simpler way to create iterators. They use the yield keyword to produce a series of values lazily, which means they generate values on the fly and do not store them in memory. "
   ]
  },
  {
   "cell_type": "code",
   "execution_count": 3,
   "metadata": {},
   "outputs": [
    {
     "name": "stdout",
     "output_type": "stream",
     "text": [
      "0\n",
      "1\n",
      "4\n"
     ]
    }
   ],
   "source": [
    "### \n",
    "\n",
    "def square(n):\n",
    "    for i in range(3):\n",
    "        yield i**2\n",
    "    \n",
    "square(3)\n",
    "\n",
    "for i in square(3):\n",
    "    print(i)"
   ]
  },
  {
   "cell_type": "code",
   "execution_count": 4,
   "metadata": {},
   "outputs": [],
   "source": [
    "a=square(3)"
   ]
  },
  {
   "cell_type": "code",
   "execution_count": 7,
   "metadata": {},
   "outputs": [
    {
     "data": {
      "text/plain": [
       "4"
      ]
     },
     "execution_count": 7,
     "metadata": {},
     "output_type": "execute_result"
    }
   ],
   "source": [
    "next(a)"
   ]
  },
  {
   "cell_type": "code",
   "execution_count": 31,
   "metadata": {},
   "outputs": [],
   "source": [
    "##\n",
    "def my_generator():\n",
    "    yield 1\n",
    "    yield 2\n",
    "    yield 3\n",
    "\n",
    "gen=my_generator()"
   ]
  },
  {
   "cell_type": "code",
   "execution_count": 32,
   "metadata": {},
   "outputs": [
    {
     "data": {
      "text/plain": [
       "1"
      ]
     },
     "execution_count": 32,
     "metadata": {},
     "output_type": "execute_result"
    }
   ],
   "source": [
    "next(gen)"
   ]
  },
  {
   "cell_type": "code",
   "execution_count": 33,
   "metadata": {},
   "outputs": [
    {
     "name": "stdout",
     "output_type": "stream",
     "text": [
      "2\n",
      "3\n"
     ]
    }
   ],
   "source": [
    "for val in gen:\n",
    "    print(val)"
   ]
  },
  {
   "cell_type": "code",
   "execution_count": null,
   "metadata": {},
   "outputs": [],
   "source": [
    "### Practical: Reading large files."
   ]
  },
  {
   "cell_type": "markdown",
   "metadata": {},
   "source": [
    "### Practical example: Reading Large Files\n",
    "\n",
    "Generators are particularly useful for reading large files because they allow you to process one line at a time without loading the entire file into memory."
   ]
  },
  {
   "cell_type": "code",
   "execution_count": 27,
   "metadata": {},
   "outputs": [
    {
     "name": "stdout",
     "output_type": "stream",
     "text": [
      "Jeremy Hogan, un abogado especializado en el caso judicial de Ripple contra la\n",
      "ComisiÃ³n de Bolsa y Valores (SEC) compartiÃ³ algunos pensamientos sobre la\n",
      "criptomoneda XRP como activo de reserva estratÃ©gica. Aunque no mencionÃ³ quÃ© necesidad\n",
      "especÃ­fica podrÃ­a tener el Gobierno Federal de la criptomoneda, seÃ±alÃ³ que esta posee\n",
      "un atributo que la hace una opciÃ³n atractiva: su centralizaciÃ³n.\n",
      "SegÃºn Hogan, el gobierno federal de los Estados Unidos podrÃ­a estar analizando\n",
      "el escenario de las reservas estratÃ©gicas de una forma muy distinta a como lo hacen\n",
      "los usuarios de criptomonedas, quienes se preocupan por variables como\n",
      "descentralizaciÃ³n, suministro y otros aspectos de economÃ­a de tokens. a actitud\n",
      "del gobierno respecto a esta reserva estratÃ©gica, por el contrario, serÃ­a pragmÃ¡tica.\n",
      "EstarÃ­a influenciada por el beneficio o cobertura que determinado activo pueda\n",
      "reportarle al gobierno frente a una contingencia geopolÃ­tica mundial. Y tal vez,\n",
      "sÃ³lo tal vez, el gobierno de los EE. UU. tenga una mayor comprensiÃ³n de los eventos\n",
      "geopolÃ­ticos que harÃ­an necesaria la necesidad de tener un depÃ³sito de XRP en el\n",
      "futuro que el entusiasta de Bitcoin (), comentÃ³ Hogan. Este beneficio o cobertura\n",
      "proveÃ­do al gobierno por XRP puede ser intrÃ­nseco. Por ejemplo, XRPL, la red nativa\n",
      "de la criptomoneda, podrÃ­a fungir como una contabilidad distribuida digital, mediante\n",
      "la cual el gobierno pueda comerciar con criptomonedas a escala nacional\n",
      "e internacional. En algÃºn caso, una soluciÃ³n asÃ­ podrÃ­a serle Ãºtil al gobierno federal,\n",
      "y se estima que la red de XRP podrÃ­a ser la ganadora, debido a la cercanÃ­a de su CEO,\n",
      "Brad Garlinghouse, con Donald Trump, como reportÃ³ CriptoNoticias.\n",
      "Pero los motivos extrÃ­nsecos, justamente la clase de motivos a los que apelÃ³ el abogado\n",
      "Jeremy Hogan para opositar a XRP como activo de reserva estratÃ©gica, resultan mÃ¡s\n",
      "interesantes. XRP podrÃ­a funcionar como un activo estratÃ©gicamente confiscable,\n",
      "lo mismo que el oro durante la incautaciÃ³n de 1933, producto de una orden orden\n",
      "ejecutiva de Franklin D. Roosevelt, presidente de los Estados Unidos, que prohibÃ­a a\n",
      "los ciudadanos estadounidenses poseer oro en forma de monedas, lingotes o certificados.\n",
      "Aunque Jeremy Hogan no afirma que el gobierno estadounidense estÃ© considerando\n",
      "factualmente estas medidas, sÃ­ sugiere que su proceso de toma de decisiones sobre\n",
      "una reserva puede estar guiado por razones estratÃ©gicas poco convencionales.\n",
      "Â¿El gobierno puede beneficiarse mÃ¡s de XRP que de bitcoin? Como reportÃ³\n",
      "CriptoNoticias, Ripple controla cerca del 37% del suministro total de XRP al\n",
      "momento de la redacciÃ³n. Este suministro estÃ¡ almacenado en escrows creados y\n",
      "resguardados por Ripple, que tienen la finalidad de dosificar su despliegue en\n",
      "el mercado. La cantidad de criptomonedas en escrows controlados por una misma\n",
      "entidad hacen de XRP un activo ideal para la confiscaciÃ³n, tambiÃ©n porque Ripple es\n",
      "una empresa claramente identificable. Una reserva estratÃ©gica en bitcoin (BTC) no\n",
      "tendrÃ­a estas ventajas, para empezar porque su sistema de nodos es no permisionado\n",
      "y libre mientras, el de XRPL funciona como una red con una lista de nodos Ãºnica\n",
      "que exige permisos, como reportÃ³ CriptoNoticias.\n"
     ]
    }
   ],
   "source": [
    "### Practical: Reading Large Files\n",
    "\n",
    "def read_large_file(file_path):\n",
    "    with open(file_path,'r') as file:\n",
    "        for line in file:\n",
    "            yield line\n",
    "\n",
    "for line in read_large_file('file.txt'):\n",
    "    print(line.strip())"
   ]
  },
  {
   "cell_type": "code",
   "execution_count": 26,
   "metadata": {},
   "outputs": [
    {
     "data": {
      "text/plain": [
       "'descentralizaciÃ³n, suministro y otros aspectos de economÃ\\xada de tokens. a actitud \\n'"
      ]
     },
     "execution_count": 26,
     "metadata": {},
     "output_type": "execute_result"
    }
   ],
   "source": []
  },
  {
   "cell_type": "code",
   "execution_count": null,
   "metadata": {},
   "outputs": [],
   "source": []
  }
 ],
 "metadata": {
  "kernelspec": {
   "display_name": "venv",
   "language": "python",
   "name": "python3"
  },
  "language_info": {
   "codemirror_mode": {
    "name": "ipython",
    "version": 3
   },
   "file_extension": ".py",
   "mimetype": "text/x-python",
   "name": "python",
   "nbconvert_exporter": "python",
   "pygments_lexer": "ipython3",
   "version": "3.12.0"
  }
 },
 "nbformat": 4,
 "nbformat_minor": 2
}
